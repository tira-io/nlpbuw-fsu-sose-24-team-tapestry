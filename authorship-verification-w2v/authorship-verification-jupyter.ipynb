{
 "cells": [
  {
   "cell_type": "code",
   "execution_count": 1,
   "metadata": {},
   "outputs": [],
   "source": [
    "from pathlib import Path\n",
    "from tira.rest_api_client import Client\n",
    "from tira.third_party_integrations import get_output_directory\n",
    "import pandas as pd\n",
    "import spacy\n",
    "from sklearn.feature_extraction.text import TfidfVectorizer, CountVectorizer\n"
   ]
  },
  {
   "cell_type": "code",
   "execution_count": 2,
   "metadata": {},
   "outputs": [],
   "source": [
    "tira = Client()\n",
    "\n",
    "    # loading train data\n",
    "text_train = tira.pd.inputs(\n",
    "        \"nlpbuw-fsu-sose-24\", \"authorship-verification-train-20240408-training\"\n",
    ")\n",
    "targets_train = tira.pd.truths(\n",
    "        \"nlpbuw-fsu-sose-24\", \"authorship-verification-train-20240408-training\"\n",
    ")\n",
    " # loading validation data (automatically replaced by test data when run on tira)\n",
    "text_validation = tira.pd.inputs(\n",
    "        \"nlpbuw-fsu-sose-24\", \"authorship-verification-validation-20240408-training\"\n",
    ")\n",
    "targets_validation = tira.pd.truths(\n",
    "        \"nlpbuw-fsu-sose-24\", \"authorship-verification-validation-20240408-training\"\n",
    ")"
   ]
  },
  {
   "cell_type": "code",
   "execution_count": 3,
   "metadata": {},
   "outputs": [
    {
     "name": "stdout",
     "output_type": "stream",
     "text": [
      "        id                                               text  generated\n",
      "0     1253  Kamala Harris to promote 'America is back' mes...          0\n",
      "1      748  Tampa Bay Buccaneers Odds & Betting Lines\\n\\nT...          0\n",
      "2     1415  Kamala Harris Tackles Root Causes of Migration...          1\n",
      "3      333  Twitter Permanently Bans President Trump's Acc...          1\n",
      "4      515  Tiger Woods Hospitalized with Severe Leg Injur...          1\n",
      "...    ...                                                ...        ...\n",
      "1769  1412  Tom Brady and the Tampa Bay Buccaneers will de...          1\n",
      "1770  1609  Schumer pledges quick delivery of $2,000 stimu...          0\n",
      "1771  1079  The Gabby Petito Case: How Social Media Shaped...          1\n",
      "1772  1811  \"Not Guilty\" Verdict Sparks Controversy: Lin W...          1\n",
      "1773  1406  Coronavirus (COVID-19) Update: FDA Authorizes ...          0\n",
      "\n",
      "[1774 rows x 3 columns]\n"
     ]
    }
   ],
   "source": [
    "pd.set_option('display.max_colwidth', 50)\n",
    "concat_train = pd.concat([text_train, targets_train['generated']], axis=1)\n",
    "concat_val = pd.concat([text_validation, targets_validation['generated']], axis=1)\n",
    "print(concat_train)"
   ]
  },
  {
   "cell_type": "code",
   "execution_count": 4,
   "metadata": {},
   "outputs": [
    {
     "data": {
      "text/plain": [
       "generated\n",
       "0    887\n",
       "1    887\n",
       "Name: count, dtype: int64"
      ]
     },
     "execution_count": 4,
     "metadata": {},
     "output_type": "execute_result"
    }
   ],
   "source": [
    "concat_train.generated.value_counts()"
   ]
  },
  {
   "cell_type": "code",
   "execution_count": 5,
   "metadata": {},
   "outputs": [],
   "source": [
    "try:\n",
    "    nlp = spacy.load('en_core_web_md')\n",
    "except OSError:\n",
    "    print('Downloading language model for the spaCy POS tagger')\n",
    "    from spacy.cli import download\n",
    "    download('en_core_web_md')\n",
    "    nlp = spacy.load('en_core_web_md')\n",
    "\n",
    "for data in (concat_train, concat_val):\n",
    "    data['word2vec_doc'] = data['text'].apply(lambda text: nlp(text).vector)"
   ]
  },
  {
   "cell_type": "code",
   "execution_count": 6,
   "metadata": {},
   "outputs": [
    {
     "name": "stdout",
     "output_type": "stream",
     "text": [
      "0      [-2.495441, -0.3262986, -2.0509212, 0.8890234,...\n",
      "1      [-2.3321953, 0.71726745, -1.2576153, 0.6445607...\n",
      "2      [-2.0062313, -0.36596125, -1.4966927, 0.111295...\n",
      "3      [-1.8860848, 0.8616338, -1.5257045, 0.55567193...\n",
      "4      [-3.2109346, 0.78183866, -1.8826302, 1.7338719...\n",
      "                             ...                        \n",
      "195    [-2.095308, -0.20857623, -1.4425899, 0.5381457...\n",
      "196    [-1.8967743, 0.034303647, -1.6071426, 0.351355...\n",
      "197    [-2.611918, -0.35038522, -0.48586276, 0.619382...\n",
      "198    [-2.2647674, 0.54415184, -1.8161175, 0.2111554...\n",
      "199    [-1.5158886, 0.074764445, -0.78554136, 1.02287...\n",
      "Name: word2vec_doc, Length: 200, dtype: object\n"
     ]
    }
   ],
   "source": [
    "print(data['word2vec_doc'])"
   ]
  },
  {
   "cell_type": "code",
   "execution_count": 7,
   "metadata": {},
   "outputs": [
    {
     "name": "stdout",
     "output_type": "stream",
     "text": [
      "              precision    recall  f1-score   support\n",
      "\n",
      "           0       0.96      0.97      0.96       887\n",
      "           1       0.96      0.96      0.96       887\n",
      "\n",
      "    accuracy                           0.96      1774\n",
      "   macro avg       0.96      0.96      0.96      1774\n",
      "weighted avg       0.96      0.96      0.96      1774\n",
      "\n"
     ]
    },
    {
     "name": "stderr",
     "output_type": "stream",
     "text": [
      "/opt/conda/lib/python3.12/site-packages/sklearn/linear_model/_logistic.py:469: ConvergenceWarning: lbfgs failed to converge (status=1):\n",
      "STOP: TOTAL NO. of ITERATIONS REACHED LIMIT.\n",
      "\n",
      "Increase the number of iterations (max_iter) or scale the data as shown in:\n",
      "    https://scikit-learn.org/stable/modules/preprocessing.html\n",
      "Please also refer to the documentation for alternative solver options:\n",
      "    https://scikit-learn.org/stable/modules/linear_model.html#logistic-regression\n",
      "  n_iter_i = _check_optimize_result(\n"
     ]
    }
   ],
   "source": [
    "from sklearn.metrics import classification_report\n",
    "from sklearn.linear_model import LogisticRegression\n",
    "\n",
    "model_logistic = LogisticRegression()\n",
    "\n",
    "y_train = concat_train.generated\n",
    "y_val = concat_val.generated\n",
    "\n",
    "# flattening text representation column from lists into separate columns\n",
    "X_train = concat_train['word2vec_doc'].apply(lambda x: pd.Series(x))\n",
    "X_train.columns = X_train.columns.astype(str)\n",
    "X_val = concat_val['word2vec_doc'].apply(lambda x: pd.Series(x))\n",
    "X_val.columns = X_val.columns.astype(str)\n",
    "        \n",
    "model_logistic.fit(X_train, y_train)\n",
    "        \n",
    "y_pred = model_logistic.predict(X_train)\n",
    "print(classification_report(y_train, y_pred))"
   ]
  },
  {
   "cell_type": "code",
   "execution_count": 8,
   "metadata": {},
   "outputs": [
    {
     "name": "stdout",
     "output_type": "stream",
     "text": [
      "              precision    recall  f1-score   support\n",
      "\n",
      "           0       0.93      0.93      0.93       100\n",
      "           1       0.93      0.93      0.93       100\n",
      "\n",
      "    accuracy                           0.93       200\n",
      "   macro avg       0.93      0.93      0.93       200\n",
      "weighted avg       0.93      0.93      0.93       200\n",
      "\n"
     ]
    }
   ],
   "source": [
    "y_pred = model_logistic.predict(X_val)\n",
    "print(classification_report(y_val, y_pred))"
   ]
  },
  {
   "cell_type": "code",
   "execution_count": 9,
   "metadata": {},
   "outputs": [
    {
     "name": "stdout",
     "output_type": "stream",
     "text": [
      "       id                                               text  prediction\n",
      "0    1023  Millions of Seniors Begin Receiving Third Stim...           0\n",
      "1     165  A History of Tension: Six Justices Absent from...           1\n",
      "2     331  Hundreds of Thousands of Livestock Trapped and...           0\n",
      "3    1705  Grambling State University's Tiger Marching Ba...           1\n",
      "4    1361  Prosecution's Cross-Examination Strategy of Ky...           1\n",
      "..    ...                                                ...         ...\n",
      "195  1161  Debunking the Myth: No SEAL Rescue of Children...           1\n",
      "196   160  Prince Harry and Meghan Markle Honor Martin Lu...           0\n",
      "197   987  World's largest container ship 'EVER ACE' succ...           0\n",
      "198  1944  Colin Powell, former general and secretary of ...           0\n",
      "199  1094  WHO lists additional COVID-19 vaccine for emer...           0\n",
      "\n",
      "[200 rows x 3 columns]\n"
     ]
    }
   ],
   "source": [
    "df = pd.DataFrame(y_pred)\n",
    "pred_val_df = pd.concat([text_validation, df], axis=1)\n",
    "pred_val_df.columns = [\"id\", \"text\", \"prediction\"]\n",
    "print(pred_val_df)"
   ]
  },
  {
   "cell_type": "code",
   "execution_count": 11,
   "metadata": {},
   "outputs": [],
   "source": [
    "prediction = (\n",
    "        pred_val_df.set_index(\"id\")[\"prediction\"]\n",
    "    )\n",
    "\n",
    "# converting the prediction to the required format\n",
    "prediction.name = \"generated\"\n",
    "prediction = prediction.reset_index()\n",
    "\n",
    "# saving the prediction\n",
    "output_directory = get_output_directory(str(Path(\"authorship-verification-jupyter.ipynb\").parent))\n",
    "prediction.to_json(\n",
    "        Path(output_directory) / \"predictions_w2v.jsonl\", orient=\"records\", lines=True\n",
    ")\n"
   ]
  }
 ],
 "metadata": {
  "kernelspec": {
   "display_name": "Python 3",
   "language": "python",
   "name": "python3"
  },
  "language_info": {
   "codemirror_mode": {
    "name": "ipython",
    "version": 3
   },
   "file_extension": ".py",
   "mimetype": "text/x-python",
   "name": "python",
   "nbconvert_exporter": "python",
   "pygments_lexer": "ipython3",
   "version": "3.12.2"
  }
 },
 "nbformat": 4,
 "nbformat_minor": 2
}
