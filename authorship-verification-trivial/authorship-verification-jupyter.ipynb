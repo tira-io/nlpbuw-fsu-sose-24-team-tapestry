{
 "cells": [
  {
   "cell_type": "code",
   "execution_count": 115,
   "metadata": {},
   "outputs": [],
   "source": [
    "from pathlib import Path\n",
    "from tira.rest_api_client import Client\n",
    "from tira.third_party_integrations import get_output_directory\n",
    "import pandas as pd"
   ]
  },
  {
   "cell_type": "code",
   "execution_count": 51,
   "metadata": {},
   "outputs": [],
   "source": [
    "tira = Client()\n",
    "\n",
    "    # loading train data\n",
    "text_train = tira.pd.inputs(\n",
    "        \"nlpbuw-fsu-sose-24\", \"authorship-verification-train-20240408-training\"\n",
    ")\n",
    "targets_train = tira.pd.truths(\n",
    "        \"nlpbuw-fsu-sose-24\", \"authorship-verification-train-20240408-training\"\n",
    ")\n",
    " # loading validation data (automatically replaced by test data when run on tira)\n",
    "text_validation = tira.pd.inputs(\n",
    "        \"nlpbuw-fsu-sose-24\", \"authorship-verification-validation-20240408-training\"\n",
    ")\n",
    "targets_validation = tira.pd.truths(\n",
    "        \"nlpbuw-fsu-sose-24\", \"authorship-verification-validation-20240408-training\"\n",
    ")"
   ]
  },
  {
   "cell_type": "code",
   "execution_count": 52,
   "metadata": {},
   "outputs": [
    {
     "name": "stdout",
     "output_type": "stream",
     "text": [
      "        id  \\\n",
      "0     1253   \n",
      "1      748   \n",
      "2     1415   \n",
      "3      333   \n",
      "4      515   \n",
      "...    ...   \n",
      "1769  1412   \n",
      "1770  1609   \n",
      "1771  1079   \n",
      "1772  1811   \n",
      "1773  1406   \n",
      "\n",
      "                                                                                                                                                                                                                                                                                                                                                                                                                                                                                                                                                                                                                                                                                                                                                                                                                                                                                                                                                                                                                                         text  \n",
      "0     Kamala Harris to promote 'America is back' message in Singapore and Vietnam\\n\\nCNN — Vice President Kamala Harris is set to travel to Singapore and Vietnam later this month, becoming the highest-ranking Biden administration official to visit Asia so far.\\n\\n\"Her trip will build on the Biden-Harris Administration's message to the world: America is back,\" her office said in a statement.\\n\\nThe statement continued, \"Our Administration sees Asia as a critically important region in the world. The Vice President's visit will emphasize the importance of comprehensive engagement and strategic partnerships – key components of our Administration's approach to foreign policy.\"\\n\\nDuring meetings with government officials, the private sector, and civil society leaders, Harris will share the Biden administration's vision for a free and open Indo-Pacific, her office said, raise trade and security issues, including in the South China Sea, and promote economic cooperation.\\n\\nHarris will travel Au...  \n",
      "1     Tampa Bay Buccaneers Odds & Betting Lines\\n\\nTampa Bay Buccaneers Odds, Bet Types, & Team History\\n\\nAll good things come to an end ... we think. Tom Brady retired \"for good\" following the 2022-23 NFL season.\\n\\nIt wasn't exactly a banner final season for Brady, as the Buccaneers struggled their way to an 8-9 record. They still won the NFC South – because the NFC South was abysmal – but were quickly eliminated by the Cowboys in the NFC Wild Card Round.\\n\\nNow, the Buccaneers hand the reins to Baker Mayfield, who is coming off a weird season in which he played for the Panthers and Rams. The latter of those two stops was the most successful for the former Brown, and he was able to parlay that success into a one-year deal worth potentially $8.5 million.\\n\\nBeyond the quarterback position, the Bucs had a fairly active offseason. They retained corner Jamel Dean and linebacker Lavonte David, and signed running back Chase Edmonds. Tampa's 2023 draft class is headlined by Pittsburgh interi...  \n",
      "2     Kamala Harris Tackles Root Causes of Migration from Central America, Amid Political Pressure\\n\\nCNN – Vice President Kamala Harris is focusing her efforts on addressing the root causes of migration from Central America, rather than managing the US southern border itself. This comes after President Joe Biden tasked her with leading efforts to stem migration from Mexico and the Northern Triangle countries.\\n\\nHarris and her team are cognizant of the political implications of her new role. They fear being linked to the border situation, as criticism from Republican critics and the media has portrayed her immigration role as a border assignment. However, the Vice President remains committed to finding long-term solutions.\\n\\nOn June 7, Harris will embark on a trip to Guatemala and Mexico to discuss issues driving Central American migration to the US. During her visit, she aims to secure commitments from private companies to invest in the Northern Triangle countries, which have some of ...  \n",
      "3     Twitter Permanently Bans President Trump's Account Over Fear of Further Violence, Igniting Debate on Free Speech and Tech Bias\\n\\nIn a historic move that has sparked intense debate on free speech and tech company bias, Twitter permanently suspended the account of President Donald Trump on Friday, citing the risk of further incitement of violence following the Capitol riots. The decision came in response to concerns that Trump's recent tweets were interpreted as supporting rioters and encouraging armed protests, including a proposed attack on the U.S. Capitol on Jan. 17.\\n\\nTrump, who had amassed 88.7 million followers before the suspension, accused Twitter of coordinating with Democrats and the Radical Left, claiming censorship and referencing Section 230 of the Communications Decency Act. Institutional accounts like @POTUS and @WhiteHouse remain active but with limited capabilities.\\n\\nThe suspension follows a broader trend where social media platforms, including Facebook, have be...  \n",
      "4     Tiger Woods Hospitalized with Severe Leg Injuries After Los Angeles Car Accident\\n\\nLOS ANGELES (Reuters) – Tiger Woods was hospitalized with severe leg injuries Tuesday after his car crashed in Los Angeles, authorities said.\\n\\nThe 45-year-old golf legend was conscious and able to communicate after the single-vehicle accident, according to Los Angeles County Sheriff Alex Villanueva.\\n\\n\"He was able to speak to the firefighters and paramedics on scene,\" Villanueva said. \"He was lucid, no evidence of any impairment whatsoever.\"\\n\\nWoods was driving an SUV when it rolled over several times on a steep road in the upscale Rancho Palos Verdes neighborhood around 7 a.m. PT, according to authorities.\\n\\n\"The vehicle sustained major damage,\" said Daryl Osby, the Los Angeles County Fire Chief. \"The front end was totally crushed.\"\\n\\nWoods was extricated from the wreckage using the \"jaws of life\" and taken to Harbor-UCLA Medical Center, where he underwent a \"long surgical procedure\" on his l...  \n",
      "...                                                                                                                                                                                                                                                                                                                                                                                                                                                                                                                                                                                                                                                                                                                                                                                                                                                                                                                                                                                                                                       ...  \n",
      "1769  Tom Brady and the Tampa Bay Buccaneers will defend their Super BowlTitle on Sunday night against Patrick Mahomes and the Kansas City Chiefs at Raymond James Stadium in Miami. For the first time in his career, the 42-year-old Brady will play in his tenth Super Bowl, making him the oldest player in NFL history to reach the pinnacle of the sport. To get you in the mood for the big game, we take a look back at the most memorable teammates Brady has had as a Bucs, both past and present. Tom Brady is the oldest player in the NFL, making him the first to play in a Super Bowl in his 10th season.PHOTOS: (L-R) Tom Brady with Brett Favre, Ben Roethlisberger and Peyton Manning. 1. Stephen Gostkowski - six appearances Gostkowski has been at least once every time Brady has appeared in a Super Bowl with the Tampa Bay Buccaneers. The tight end appeared six times with the Bucs, but the most memorable occasion was his final Super Bowl with Brady in 2015. PHOTOS: (L-R) Stephen Gostkowski, Ben Roethli...  \n",
      "1770  Schumer pledges quick delivery of $2,000 stimulus checks: 'We will get that done'\\n\\nSenate Democrats plan to make another coronavirus relief package — including sending an additional stimulus payment to many Americans — one of their top priorities for the year once they assume control of the chamber.\\n\\n\"The job of COVID emergency relief is far from complete,\" Senate Minority Leader Chuck Schumer wrote in a letter to colleagues on Tuesday. \"Democrats wanted to do much more in the last bill and promised to do more, if given the opportunity, to increase direct payments to a total of $2,000 -- we will get that done.\"\\n\\nWHAT'S IN THE NEW $900B CORONAVIRUS RELIEF DEAL?\\n\\nDemocrats will control the Senate by the thinnest of margins after twin victories by Jon Ossoff and Raphael Warnock in the Georgia run-off elections last week clinched the party a 50-50 split in the upper chamber, with Vice President-elect Kamala Harris able to cast a tie-breaking vote.\\n\\nTheir closing arguments in ...  \n",
      "1771  The Gabby Petito Case: How Social Media Shaped the Investigation\\n\\nThe recent tragic death of Gabby Petito, whose body was found in a Wyoming national park, has sparked a national conversation about the role of social media in crime investigations. The 22-year-old's disappearance and subsequent discovery have raised questions about the impact of online platforms, such as TikTok and Websleuths, on the case.\\n\\nAs the search for Petito's missing fiancé continues in a Florida nature preserve, the internet has been abuzz with theories and speculation. One TikTok influencer, Haley Toumaian, has claimed that her video about Petito's disappearance helped authorities locate her body. While this claim remains unverified, it highlights the significant role that social media has played in the investigation.\\n\\nAccording to Isaac West, associate professor at Vanderbilt University and author of The Serial Effect: True Crime and Contemporary American Culture, \"Social media has fundamentally cha...  \n",
      "1772  \"Not Guilty\" Verdict Sparks Controversy: Lin Wood, John Pierce Accused of Monetizing Kyle Rittenhouse's Case\\n\\nAttorney Mark Richards, who represented Kyle Rittenhouse during his high-profile trial, unleashed a scathing criticism towards pro-Trump lawyers Lin Wood and John Pierce, labeling them \"idiots\" aiming to monetize Rittenhouse's case. In a recent interview, Richards stated, \"Lin Wood and John Pierce were attempting to use Kyle for their own financial gain and personal agendas.\"\\n\\nOn November 19, 2021, a jury in Kenosha, Wisconsin, found Kyle Rittenhouse \"not guilty\" of all charges related to the shooting that occurred during a protest against police brutality. Rittenhouse was accused of killing two men and wounding another during the chaotic protests that erupted following the police shooting of Jacob Blake.\\n\\nThe controversy surrounding Wood and Pierce's involvement in Rittenhouse's case began with their fundraising efforts for his bail. Both attorneys raised significant...  \n",
      "1773  Coronavirus (COVID-19) Update: FDA Authorizes First Oral Antiviral for Treatment of COVID-19\\n\\nToday, the U.S. Food and Drug Administration issued an emergency use authorization (EUA) for Pfizer's Paxlovid (nirmatrelvir tablets and ritonavir tablets, co-packaged for oral use) for the treatment of mild-to-moderate coronavirus disease (COVID-19) in adults and pediatric patients (12 years of age and older weighing at least 40 kilograms or about 88 pounds) with positive results of direct SARS-CoV-2 testing, and who are at high risk for progression to severe COVID-19, including hospitalization or death. Paxlovid is available by prescription only and should be initiated as soon as possible after diagnosis of COVID-19 and within five days of symptom onset.\\n\\n\"Today's authorization introduces the first treatment for COVID-19 that is in the form of a pill that is taken orally — a major step forward in the fight against this global pandemic,\" said Patrizia Cavazzoni, M.D., director of the ...  \n",
      "\n",
      "[1774 rows x 2 columns]\n"
     ]
    }
   ],
   "source": [
    "print(text_train)"
   ]
  },
  {
   "cell_type": "code",
   "execution_count": 53,
   "metadata": {},
   "outputs": [
    {
     "name": "stdout",
     "output_type": "stream",
     "text": [
      "        id                                               text  generated\n",
      "0     1253  Kamala Harris to promote 'America is back' mes...          0\n",
      "1      748  Tampa Bay Buccaneers Odds & Betting Lines\\n\\nT...          0\n",
      "2     1415  Kamala Harris Tackles Root Causes of Migration...          1\n",
      "3      333  Twitter Permanently Bans President Trump's Acc...          1\n",
      "4      515  Tiger Woods Hospitalized with Severe Leg Injur...          1\n",
      "...    ...                                                ...        ...\n",
      "1769  1412  Tom Brady and the Tampa Bay Buccaneers will de...          1\n",
      "1770  1609  Schumer pledges quick delivery of $2,000 stimu...          0\n",
      "1771  1079  The Gabby Petito Case: How Social Media Shaped...          1\n",
      "1772  1811  \"Not Guilty\" Verdict Sparks Controversy: Lin W...          1\n",
      "1773  1406  Coronavirus (COVID-19) Update: FDA Authorizes ...          0\n",
      "\n",
      "[1774 rows x 3 columns]\n"
     ]
    }
   ],
   "source": [
    "pd.set_option('display.max_colwidth', 50)\n",
    "concat_df = pd.concat([text_train, targets_train['generated']], axis=1)\n",
    "print(concat_df)"
   ]
  },
  {
   "cell_type": "markdown",
   "metadata": {},
   "source": [
    "### Display generated texts"
   ]
  },
  {
   "cell_type": "code",
   "execution_count": 66,
   "metadata": {},
   "outputs": [
    {
     "name": "stdout",
     "output_type": "stream",
     "text": [
      "2       Kamala Harris Tackles Root Causes of Migration from Central America, Amid Political Pressure\\n\\nCNN – Vice President Kamala Harris is focusing her efforts on addressing the root causes of migration from Central America, rather than managing the US southern border itself. This comes after President Joe Biden tasked her with leading efforts to stem migration from Mexico and the Northern Triangle countries.\\n\\nHarris and her team are cognizant of the political implications of her new role. They fear being linked to the border situation, as criticism from Republican critics and the media has portrayed her immigration role as a border assignment. However, the Vice President remains committed to finding long-term solutions.\\n\\nOn June 7, Harris will embark on a trip to Guatemala and Mexico to discuss issues driving Central American migration to the US. During her visit, she aims to secure commitments from private companies to invest in the Northern Triangle countries, which have some of ...\n",
      "3       Twitter Permanently Bans President Trump's Account Over Fear of Further Violence, Igniting Debate on Free Speech and Tech Bias\\n\\nIn a historic move that has sparked intense debate on free speech and tech company bias, Twitter permanently suspended the account of President Donald Trump on Friday, citing the risk of further incitement of violence following the Capitol riots. The decision came in response to concerns that Trump's recent tweets were interpreted as supporting rioters and encouraging armed protests, including a proposed attack on the U.S. Capitol on Jan. 17.\\n\\nTrump, who had amassed 88.7 million followers before the suspension, accused Twitter of coordinating with Democrats and the Radical Left, claiming censorship and referencing Section 230 of the Communications Decency Act. Institutional accounts like @POTUS and @WhiteHouse remain active but with limited capabilities.\\n\\nThe suspension follows a broader trend where social media platforms, including Facebook, have be...\n",
      "4       Tiger Woods Hospitalized with Severe Leg Injuries After Los Angeles Car Accident\\n\\nLOS ANGELES (Reuters) – Tiger Woods was hospitalized with severe leg injuries Tuesday after his car crashed in Los Angeles, authorities said.\\n\\nThe 45-year-old golf legend was conscious and able to communicate after the single-vehicle accident, according to Los Angeles County Sheriff Alex Villanueva.\\n\\n\"He was able to speak to the firefighters and paramedics on scene,\" Villanueva said. \"He was lucid, no evidence of any impairment whatsoever.\"\\n\\nWoods was driving an SUV when it rolled over several times on a steep road in the upscale Rancho Palos Verdes neighborhood around 7 a.m. PT, according to authorities.\\n\\n\"The vehicle sustained major damage,\" said Daryl Osby, the Los Angeles County Fire Chief. \"The front end was totally crushed.\"\\n\\nWoods was extricated from the wreckage using the \"jaws of life\" and taken to Harbor-UCLA Medical Center, where he underwent a \"long surgical procedure\" on his l...\n",
      "7       Prince Harry and Meghan Markle Advocate for COVID-19 Vaccine Equity on Son Archie's Second Birthday\\n\\nLondon – In a heartwarming gesture, Prince Harry and Meghan Markle are using their son Archie's second birthday to advocate for COVID-19 vaccine equity. The Sussexes have partnered with their charitable organization, Archewell, to support vaccine donations and promote global solidarity in overcoming the pandemic.\\n\\nFor every $5 donation made to Archewell, multiple organizations will contribute $15, enough to cover four vaccine doses. The couple's statement highlights the stark global disparity in vaccine distribution, with 80% of doses administered in wealthier nations. Harry and Meghan emphasize the importance of global compassion and solidarity in ensuring equitable access to vaccines, particularly for lower-income countries.\\n\\nTo further promote worldwide vaccine access, Archewell is collaborating with Global Citizen and Gavi, the Vaccine Alliance. The Sussexes have also sent...\n",
      "10                                     Afghan Dual Nationals, Including Americans and Citizens of Other Western Countries, Flee Kabul via Reopened Airport with U.S. Special Representative Khalilzad's Pressure, NSC Spokesperson Horne's Statement, Taliban's Flexibility and Qatari-Taliban Announcement of Airport's Nearly Full Operationality.\\n\\nThen start your article with a brief introduction, providing necessary context for readers unfamiliar with the issue.\\n\\nIn recent news, scores of Afghan dual nationals, including Americans and citizens of other Western countries, have left Kabul via a newly reopened airport. The departures were facilitated by U.S. Special Representative Zalmay Khalilzad, who pressed the Taliban to allow the departures. The Taliban were cooperative, demonstrating flexibility and professionalism, according to National Security Council spokesperson Emily Horne. Additionally, Qatari and Taliban officials announced that Kabul airport is nearly fully operational after repairs.\n",
      "                                                                                                                                                                                                                                                                                                                                                                                                                                                                                                                         ...                                                                                                                                                                                                                                                                                                                                                                                                                                                                                                                   \n",
      "1765                                                                                                                                                                                                                                                                                                                                                                    Massive Container Ship Freed from Suez Canal After Being Stuck for 6 Days.\\n\\nThe Ever Given, a massive container ship, was successfully freed from the Suez Canal after being stuck for six days. The operation required a combination of dredging, tugboat maneuvering, and taking advantage of high tides. The ship had become wedged in the canal on March 23 due to poor visibility and high winds, prompting a global effort to dislodge it. The Suez Canal is a crucial waterway for global trade, with about 15% of all shipping passing through it. Experts were initially unsure how to free the ship, likening its situation to \"an enormous beached whale.\"\n",
      "1768    Trump Banned from Major Social Media Platforms Amid Capitol Riot\\n\\nDW – 01 – US President Donald Trump has been banned from several major social media platforms, including Twitter, Facebook, Instagram, and Twitch, following the riot at the US Capitol by pro-Trump supporters seeking to overturn the election results.\\n\\nTwitter locked Trump out of his account for 12 hours, while Facebook banned him indefinitely. The bans came after Trump posted a video addressing rioters, claiming voter fraud, and expressing empathy toward his supporters.\\n\\nFacebook's CEO Mark Zuckerberg stated, \"The shocking events of the last 24 hours clearly demonstrate that President Donald Trump intends to use his remaining time in office to undermine the peaceful and lawful transition of power to his elected successor, Joe Biden.\" Zuckerberg went on to say, \"His decision to use his platform to condone rather than condemn the actions of his supporters at the Capitol building has rightly disturbed people in the...\n",
      "1769    Tom Brady and the Tampa Bay Buccaneers will defend their Super BowlTitle on Sunday night against Patrick Mahomes and the Kansas City Chiefs at Raymond James Stadium in Miami. For the first time in his career, the 42-year-old Brady will play in his tenth Super Bowl, making him the oldest player in NFL history to reach the pinnacle of the sport. To get you in the mood for the big game, we take a look back at the most memorable teammates Brady has had as a Bucs, both past and present. Tom Brady is the oldest player in the NFL, making him the first to play in a Super Bowl in his 10th season.PHOTOS: (L-R) Tom Brady with Brett Favre, Ben Roethlisberger and Peyton Manning. 1. Stephen Gostkowski - six appearances Gostkowski has been at least once every time Brady has appeared in a Super Bowl with the Tampa Bay Buccaneers. The tight end appeared six times with the Bucs, but the most memorable occasion was his final Super Bowl with Brady in 2015. PHOTOS: (L-R) Stephen Gostkowski, Ben Roethli...\n",
      "1771    The Gabby Petito Case: How Social Media Shaped the Investigation\\n\\nThe recent tragic death of Gabby Petito, whose body was found in a Wyoming national park, has sparked a national conversation about the role of social media in crime investigations. The 22-year-old's disappearance and subsequent discovery have raised questions about the impact of online platforms, such as TikTok and Websleuths, on the case.\\n\\nAs the search for Petito's missing fiancé continues in a Florida nature preserve, the internet has been abuzz with theories and speculation. One TikTok influencer, Haley Toumaian, has claimed that her video about Petito's disappearance helped authorities locate her body. While this claim remains unverified, it highlights the significant role that social media has played in the investigation.\\n\\nAccording to Isaac West, associate professor at Vanderbilt University and author of The Serial Effect: True Crime and Contemporary American Culture, \"Social media has fundamentally cha...\n",
      "1772    \"Not Guilty\" Verdict Sparks Controversy: Lin Wood, John Pierce Accused of Monetizing Kyle Rittenhouse's Case\\n\\nAttorney Mark Richards, who represented Kyle Rittenhouse during his high-profile trial, unleashed a scathing criticism towards pro-Trump lawyers Lin Wood and John Pierce, labeling them \"idiots\" aiming to monetize Rittenhouse's case. In a recent interview, Richards stated, \"Lin Wood and John Pierce were attempting to use Kyle for their own financial gain and personal agendas.\"\\n\\nOn November 19, 2021, a jury in Kenosha, Wisconsin, found Kyle Rittenhouse \"not guilty\" of all charges related to the shooting that occurred during a protest against police brutality. Rittenhouse was accused of killing two men and wounding another during the chaotic protests that erupted following the police shooting of Jacob Blake.\\n\\nThe controversy surrounding Wood and Pierce's involvement in Rittenhouse's case began with their fundraising efforts for his bail. Both attorneys raised significant...\n",
      "Name: text, Length: 887, dtype: object\n",
      "166        0\n",
      "33       102\n",
      "575      239\n",
      "1274     299\n",
      "235      306\n",
      "        ... \n",
      "256     5732\n",
      "434     5881\n",
      "839     5939\n",
      "757     5978\n",
      "129     6931\n",
      "Name: text, Length: 887, dtype: int64\n",
      "1083.0067859142857\n"
     ]
    }
   ],
   "source": [
    "pd.set_option('display.max_colwidth', 1000)\n",
    "generated_only = concat_df.loc[concat_df['generated'] == 1]\n",
    "\n",
    "print(generated_only['text'])\n",
    "print(generated_only.text.str.len().sort_values(ascending = True))\n",
    "print(generated_only.text.str.len().std())\n",
    "\n"
   ]
  },
  {
   "cell_type": "markdown",
   "metadata": {},
   "source": [
    "### Display non-generated texts"
   ]
  },
  {
   "cell_type": "code",
   "execution_count": 55,
   "metadata": {},
   "outputs": [
    {
     "name": "stdout",
     "output_type": "stream",
     "text": [
      "0       Kamala Harris to promote 'America is back' message in Singapore and Vietnam\\n\\nCNN — Vice President Kamala Harris is set to travel to Singapore and Vietnam later this month, becoming the highest-ranking Biden administration official to visit Asia so far.\\n\\n\"Her trip will build on the Biden-Harris Administration's message to the world: America is back,\" her office said in a statement.\\n\\nThe statement continued, \"Our Administration sees Asia as a critically important region in the world. The Vice President's visit will emphasize the importance of comprehensive engagement and strategic partnerships – key components of our Administration's approach to foreign policy.\"\\n\\nDuring meetings with government officials, the private sector, and civil society leaders, Harris will share the Biden administration's vision for a free and open Indo-Pacific, her office said, raise trade and security issues, including in the South China Sea, and promote economic cooperation.\\n\\nHarris will travel Au...\n",
      "1       Tampa Bay Buccaneers Odds & Betting Lines\\n\\nTampa Bay Buccaneers Odds, Bet Types, & Team History\\n\\nAll good things come to an end ... we think. Tom Brady retired \"for good\" following the 2022-23 NFL season.\\n\\nIt wasn't exactly a banner final season for Brady, as the Buccaneers struggled their way to an 8-9 record. They still won the NFC South – because the NFC South was abysmal – but were quickly eliminated by the Cowboys in the NFC Wild Card Round.\\n\\nNow, the Buccaneers hand the reins to Baker Mayfield, who is coming off a weird season in which he played for the Panthers and Rams. The latter of those two stops was the most successful for the former Brown, and he was able to parlay that success into a one-year deal worth potentially $8.5 million.\\n\\nBeyond the quarterback position, the Bucs had a fairly active offseason. They retained corner Jamel Dean and linebacker Lavonte David, and signed running back Chase Edmonds. Tampa's 2023 draft class is headlined by Pittsburgh interi...\n",
      "5       COVID-19 shows why united action is needed for more robust international health architecture\\n\\nThe COVID-19 pandemic is the biggest challenge to the global community since the 1940s. At that time, following the devastation of two world wars, political leaders came together to forge the multilateral system. The aims were clear: to bring countries together, to dispel the temptations of isolationism and nationalism, and to address the challenges that could only be achieved together in the spirit of solidarity and cooperation, namely peace, prosperity, health and security.\\n\\nToday, we hold the same hope that as we fight to overcome the COVID-19 pandemic together, we can build a more robust international health architecture that will protect future generations. There will be other pandemics and other major health emergencies. No single government or multilateral agency can address this threat alone. The question is not if, but when. Together, we must be better prepared to predict, pre...\n",
      "6       How a YouTuber says she tipped off the FBI with location of Gabby Petito's body\\n\\nAfter reading reports calling for tips regarding then-missing traveler Gabby Petito's whereabouts, travel blogger Jenn Bethune and her husband reviewed video that captured a white van during their trip to Grand Teton National Park.\\n\\n\"We both got goosebumps all over our body. We knew it was her van as soon as the footage passed by it,\" Bethune told ABC News. Watch a preview of Bethune's interview on Friday's episode of ABC's \"20/20\" about the Petito case in the player above.\\n\\n\"Life on Line: The Last Days of Gabby Petito\" reports on the horror that unfolded in Wyoming's Grand Teton National Park and the details that lead to the discovery of remains identified as Brian Laundrie, Petito's boyfriend.\\n\\nThrough interviews with Jim Winder -- who is the former Moab, Utah, police chief -- experts on body language, and legal analysts, the show will break down the viral body camera footage from the couple'...\n",
      "8       Cargo ship drew a penis and butt before getting stuck in Suez Canal\\n\\nHot dog, does this container ship have bad luck.\\n\\nBefore getting itself into a pickle by running aground in the Suez Canal, this unfortunate vessel drew one.\\n\\nAccording to nautical tracking service VesselFinder, the massive Ever Given charted a route resembling a penis, testicles and an enormous butt in the Red Sea before it became stuck, causing an intercontinental traffic jam in the maritime artery.\\n\\nAs for the possibility that the vessel tracking site somehow conjured the data as a juvenile genital joke, \"There is no room for some kind of conspiracies or false data,\" a spokesperson for the site told Vice.\\n\\n\"Innocent, but terrible luck,\" disinformation researcher John Scott-Railton captioned a tweet of the Ever Given's watery, X-rated route.\\n\\nThe gigantic ship — which measures in at more than four football fields long and over 440 million pounds — became lodged in the Suez Canal when high winds and a...\n",
      "                                                                                                                                                                                                                                                                                                                                                                                                                                                                                                                         ...                                                                                                                                                                                                                                                                                                                                                                                                                                                                                                                   \n",
      "1763    U.S. to boost pipeline cyber protections in wake of Colonial hack\\n\\nWASHINGTON, May 25 (Reuters) - The Biden administration is working with pipeline companies to strengthen protections against cyberattacks following the Colonial Pipeline hack, with announcements of actions planned in coming days, the Department of Homeland Security (DHS) said on Tuesday.\\n\\nA ransomware attack forced Colonial Pipeline, which runs from Texas to New Jersey, to shut much of its network for several days this month, leaving thousands of gas stations across the U.S. Southeast without fuel. Motorists fearing prolonged shortages raced to fill their tanks as the outage laid bare the nation's reliance on a few key pipelines for fuel needs. read more\\n\\nThe Transportation Security Administration (TSA), a unit of the DHS, \"is coordinating with companies in the pipeline sector to ensure they are taking all necessary steps to increase their resilience to cyber threats and secure their systems,\" the agency said....\n",
      "1766    'Saved by the Bell' star Dustin Diamond dead at 44 after cancer battle\\n\\nDustin Diamond, best known for playing Screech on the teen-themed comedy \"Saved by the Bell,\" died Monday, less than a month after being diagnosed with lung cancer.\\n\\nHe was 44.\\n\\n\"He was diagnosed with this brutal, relentless form of malignant cancer only three weeks ago,\" his spokesman said in a statement to the Daily News. \"In that time, it managed to spread rapidly throughout his system; the only mercy it exhibited was its sharp and swift execution. Dustin did not suffer. He did not have to lie submerged in pain. For that, we are grateful.\"\\n\\nThe former child actor was hospitalized in Florida for body pain and was diagnosed with Stage 4 small cell carcinoma. He began his first round of chemotherapy shortly after.\\n\\nDiamond starred as Screech (far right) in \"Saved by the Bell.\"\\n\\n\"Saved by the Bell\" ran for four seasons on NBC, from 1989 to 1993, following a group of high school students and their pri...\n",
      "1767    Graham calls for removal of protections from lawsuits after Twitter bans Trump\\n\\nWASHINGTON (WCSC) - U.S. Sen. Lindsey Graham said he's \"more determined than ever\" to strip away protections that make companies like Twitter immune to lawsuits.\\n\\nGraham said that's because of Twitter's decision Friday afternoon to ban President Donald Trump from its platform.\\n\\nIn a series of tweets, Graham said Twitter may ban him but he would \"willingly accept that fate.\"\\n\\n\"Your decision to permanently ban President Trump is a serious mistake,\" he said in a post. \"The Ayatollah can tweet, but Trump can't. Says a lot about the people who run Twitter.\"\\n\\nGraham said \"Big Tech\" are the only companies in the nation that have \"absolute immunity from being sued for their actions, and it's only because Congress gave them that protection.\"\\n\\n\"It's now time for Congress to repeal Section 230 and put Big Tech on the same legal footing as every other company in America,\" he tweeted. \"Legal accountabili...\n",
      "1770    Schumer pledges quick delivery of $2,000 stimulus checks: 'We will get that done'\\n\\nSenate Democrats plan to make another coronavirus relief package — including sending an additional stimulus payment to many Americans — one of their top priorities for the year once they assume control of the chamber.\\n\\n\"The job of COVID emergency relief is far from complete,\" Senate Minority Leader Chuck Schumer wrote in a letter to colleagues on Tuesday. \"Democrats wanted to do much more in the last bill and promised to do more, if given the opportunity, to increase direct payments to a total of $2,000 -- we will get that done.\"\\n\\nWHAT'S IN THE NEW $900B CORONAVIRUS RELIEF DEAL?\\n\\nDemocrats will control the Senate by the thinnest of margins after twin victories by Jon Ossoff and Raphael Warnock in the Georgia run-off elections last week clinched the party a 50-50 split in the upper chamber, with Vice President-elect Kamala Harris able to cast a tie-breaking vote.\\n\\nTheir closing arguments in ...\n",
      "1773    Coronavirus (COVID-19) Update: FDA Authorizes First Oral Antiviral for Treatment of COVID-19\\n\\nToday, the U.S. Food and Drug Administration issued an emergency use authorization (EUA) for Pfizer's Paxlovid (nirmatrelvir tablets and ritonavir tablets, co-packaged for oral use) for the treatment of mild-to-moderate coronavirus disease (COVID-19) in adults and pediatric patients (12 years of age and older weighing at least 40 kilograms or about 88 pounds) with positive results of direct SARS-CoV-2 testing, and who are at high risk for progression to severe COVID-19, including hospitalization or death. Paxlovid is available by prescription only and should be initiated as soon as possible after diagnosis of COVID-19 and within five days of symptom onset.\\n\\n\"Today's authorization introduces the first treatment for COVID-19 that is in the form of a pill that is taken orally — a major step forward in the fight against this global pandemic,\" said Patrizia Cavazzoni, M.D., director of the ...\n",
      "Name: text, Length: 887, dtype: object\n",
      "1140      72\n",
      "1476     991\n",
      "887     1014\n",
      "912     1037\n",
      "1500    1147\n",
      "        ... \n",
      "1280    6393\n",
      "611     6455\n",
      "1696    6621\n",
      "372     6659\n",
      "237     7542\n",
      "Name: text, Length: 887, dtype: int64\n",
      "916.7292824481303\n"
     ]
    }
   ],
   "source": [
    "non_generated = concat_df.loc[concat_df['generated'] == 0]\n",
    "print(non_generated['text'])\n",
    "print(non_generated.text.str.len().sort_values(ascending = True))\n",
    "print(non_generated.text.str.len().std())"
   ]
  },
  {
   "cell_type": "code",
   "execution_count": 126,
   "metadata": {},
   "outputs": [
    {
     "data": {
      "text/plain": [
       "'Error: 0.4391206313416009'"
      ]
     },
     "execution_count": 126,
     "metadata": {},
     "output_type": "execute_result"
    }
   ],
   "source": [
    "targ_ser = targets_train['generated'].squeeze() #convert to series\n",
    "pred = (text_train['text'].str.len()<1000).astype(int)\n",
    "diff = targ_ser.compare(pred)\n",
    "error_test = len(diff)/len(text_train)\n",
    "f\"Error: {error_test}\""
   ]
  },
  {
   "cell_type": "markdown",
   "metadata": {},
   "source": [
    "### Inspect validation set"
   ]
  },
  {
   "cell_type": "code",
   "execution_count": 127,
   "metadata": {},
   "outputs": [
    {
     "data": {
      "text/plain": [
       "'Error: 0.44'"
      ]
     },
     "execution_count": 127,
     "metadata": {},
     "output_type": "execute_result"
    }
   ],
   "source": [
    "targ_ser_v = targets_validation['generated'].squeeze() #convert to series\n",
    "pred_v = (text_validation['text'].str.len()<1000).astype(int)\n",
    "diff_v = targ_ser_v.compare(pred_v)\n",
    "error = len(diff_v)/len(text_validation)\n",
    "f\"Error: {error}\""
   ]
  },
  {
   "cell_type": "code",
   "execution_count": 128,
   "metadata": {},
   "outputs": [],
   "source": [
    "prediction = (\n",
    "        (text_validation.set_index(\"id\")[\"text\"]\n",
    "        .str.len()<1000).astype(int)\n",
    "    )\n",
    "\n",
    "\n",
    "# converting the prediction to the required format\n",
    "prediction.name = \"generated\"\n",
    "prediction = prediction.reset_index()\n",
    "\n",
    "# saving the prediction\n",
    "output_directory = get_output_directory(str(Path(\"authorship-verification-jupyter.ipynb\").parent))\n",
    "prediction.to_json(\n",
    "        Path(output_directory) / \"predictions.jsonl\", orient=\"records\", lines=True\n",
    ")\n",
    "\n"
   ]
  }
 ],
 "metadata": {
  "kernelspec": {
   "display_name": "Python 3",
   "language": "python",
   "name": "python3"
  },
  "language_info": {
   "codemirror_mode": {
    "name": "ipython",
    "version": 3
   },
   "file_extension": ".py",
   "mimetype": "text/x-python",
   "name": "python",
   "nbconvert_exporter": "python",
   "pygments_lexer": "ipython3",
   "version": "3.11.7"
  }
 },
 "nbformat": 4,
 "nbformat_minor": 2
}
