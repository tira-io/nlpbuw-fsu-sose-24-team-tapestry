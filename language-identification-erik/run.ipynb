{
 "cells": [
  {
   "cell_type": "code",
   "execution_count": null,
   "metadata": {},
   "outputs": [],
   "source": [
    "from pathlib import Path\n",
    "\n",
    "from joblib import dump\n",
    "from tira.rest_api_client import Client\n",
    "import pandas as pd\n",
    "from warnings import simplefilter\n",
    "from sklearn.exceptions import ConvergenceWarning\n",
    "simplefilter(\"ignore\", category=ConvergenceWarning)\n",
    "from sklearn.feature_extraction.text import CountVectorizer\n",
    "import re\n",
    "\n",
    "# Load the data\n",
    "tira = Client()\n",
    "text = tira.pd.inputs(\n",
    "    \"nlpbuw-fsu-sose-24\", \"language-identification-train-20240429-training\"\n",
    ")\n",
    "#text = text.set_index(\"id\")\n",
    "labels = tira.pd.truths(\n",
    "    \"nlpbuw-fsu-sose-24\", \"language-identification-train-20240429-training\"\n",
    ")\n",
    "\n",
    "df = text.join(labels.set_index(\"id\"))\n",
    "\n",
    "# TODO : classify all non-latin-languages, save all remaining latin-languages as \"text_val_latin_only\"\n",
    "text_val_latin_only = text\n",
    "\n",
    "remove_punctuation = str.maketrans('', '', r\"-()\\\"#/@;:<>{}-=~|.?,\")\n",
    "\n",
    "def PunctFreeLower(texts):\n",
    "    cleaned = []\n",
    "    for text in texts:\n",
    "        cleaned.append((re.sub(r\"[0-9]+\", \"\", (text.translate(remove_punctuation)))).lower())\n",
    "    return cleaned\n",
    "\n",
    "text_val_cleaned = PunctFreeLower(text_val_latin_only[\"text\"])\n",
    "\n",
    "vec2 = CountVectorizer(analyzer='char', ngram_range=(1, 3))\n",
    "text_val_vec2 = vec2.transform(text_val_cleaned)\n",
    "   \n",
    "\n",
    "# Load the model and make predictions\n",
    "model = open(Path().resolve() / \"model.joblib\")\n",
    "predictions = model.predict(text_val_vec2)\n",
    "df[\"language\"] = predictions\n",
    "df = df[[\"id\", \"language\"]]\n",
    "\n",
    "# Save the predictions\n",
    "df.to_json(\n",
    "    Path().resolve() / \"predictions.jsonl\", orient=\"records\", lines=True\n",
    ")"
   ]
  }
 ],
 "metadata": {
  "language_info": {
   "name": "python"
  }
 },
 "nbformat": 4,
 "nbformat_minor": 2
}
