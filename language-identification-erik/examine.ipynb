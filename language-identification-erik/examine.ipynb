{
 "cells": [
  {
   "cell_type": "code",
   "execution_count": 4,
   "metadata": {},
   "outputs": [],
   "source": [
    "import numpy as np\n",
    "import pandas as pd\n",
    "from tira.rest_api_client import Client\n",
    "from tira.third_party_integrations import get_output_directory"
   ]
  },
  {
   "cell_type": "code",
   "execution_count": 5,
   "metadata": {},
   "outputs": [],
   "source": [
    "tira = Client()"
   ]
  },
  {
   "cell_type": "code",
   "execution_count": 6,
   "metadata": {},
   "outputs": [],
   "source": [
    "    # loading train data\n",
    "text_train = tira.pd.inputs(\n",
    "        \"nlpbuw-fsu-sose-24\", \"language-identification-train-20240429-training\"\n",
    ")"
   ]
  },
  {
   "cell_type": "code",
   "execution_count": 7,
   "metadata": {},
   "outputs": [],
   "source": [
    "targets_train = tira.pd.truths(\n",
    "        \"nlpbuw-fsu-sose-24\", \"language-identification-train-20240429-training\"\n",
    ")"
   ]
  },
  {
   "cell_type": "code",
   "execution_count": 8,
   "metadata": {},
   "outputs": [],
   "source": [
    " # loading validation data (automatically replaced by test data when run on tira)\n",
    "text_validation = tira.pd.inputs(\n",
    "        \"nlpbuw-fsu-sose-24\", \"language-identification-validation-20240429-training\"\n",
    ")"
   ]
  },
  {
   "cell_type": "code",
   "execution_count": 9,
   "metadata": {},
   "outputs": [],
   "source": [
    "targets_validation = tira.pd.truths(\n",
    "        \"nlpbuw-fsu-sose-24\", \"language-identification-validation-20240429-training\"\n",
    ")"
   ]
  },
  {
   "cell_type": "code",
   "execution_count": 10,
   "metadata": {},
   "outputs": [
    {
     "data": {
      "text/html": [
       "<div>\n",
       "<style scoped>\n",
       "    .dataframe tbody tr th:only-of-type {\n",
       "        vertical-align: middle;\n",
       "    }\n",
       "\n",
       "    .dataframe tbody tr th {\n",
       "        vertical-align: top;\n",
       "    }\n",
       "\n",
       "    .dataframe thead th {\n",
       "        text-align: right;\n",
       "    }\n",
       "</style>\n",
       "<table border=\"1\" class=\"dataframe\">\n",
       "  <thead>\n",
       "    <tr style=\"text-align: right;\">\n",
       "      <th></th>\n",
       "      <th>id</th>\n",
       "      <th>text</th>\n",
       "    </tr>\n",
       "  </thead>\n",
       "  <tbody>\n",
       "    <tr>\n",
       "      <th>0</th>\n",
       "      <td>1</td>\n",
       "      <td>Der Flughafen Berlin Brandenburg verfügt über ...</td>\n",
       "    </tr>\n",
       "    <tr>\n",
       "      <th>1</th>\n",
       "      <td>2</td>\n",
       "      <td>Успешное развитие общества, однако, возможно л...</td>\n",
       "    </tr>\n",
       "    <tr>\n",
       "      <th>2</th>\n",
       "      <td>3</td>\n",
       "      <td>I øvrigt er kendetegnene for en magnetisk svag...</td>\n",
       "    </tr>\n",
       "    <tr>\n",
       "      <th>3</th>\n",
       "      <td>4</td>\n",
       "      <td>Sowohl über den historischen Simon als auch üb...</td>\n",
       "    </tr>\n",
       "    <tr>\n",
       "      <th>4</th>\n",
       "      <td>5</td>\n",
       "      <td>Emmure е формирана през 2003 г., когато Франки...</td>\n",
       "    </tr>\n",
       "    <tr>\n",
       "      <th>...</th>\n",
       "      <td>...</td>\n",
       "      <td>...</td>\n",
       "    </tr>\n",
       "    <tr>\n",
       "      <th>319995</th>\n",
       "      <td>399994</td>\n",
       "      <td>Sociální náklady stejně jako soukromé náklady ...</td>\n",
       "    </tr>\n",
       "    <tr>\n",
       "      <th>319996</th>\n",
       "      <td>399995</td>\n",
       "      <td>Sljedećeg dana, glumac je malo zakasnio na set...</td>\n",
       "    </tr>\n",
       "    <tr>\n",
       "      <th>319997</th>\n",
       "      <td>399996</td>\n",
       "      <td>İstiqlal Sarayı (), Yenidən Birleşme Sarayı ()...</td>\n",
       "    </tr>\n",
       "    <tr>\n",
       "      <th>319998</th>\n",
       "      <td>399998</td>\n",
       "      <td>Nella serie \"Magico Vento\" figura il personagg...</td>\n",
       "    </tr>\n",
       "    <tr>\n",
       "      <th>319999</th>\n",
       "      <td>399999</td>\n",
       "      <td>經過多年努力,物理學者仍舊無法將引力併入量子框架,更不必說與其他基本力統合。因此,他們轉移工...</td>\n",
       "    </tr>\n",
       "  </tbody>\n",
       "</table>\n",
       "<p>320000 rows × 2 columns</p>\n",
       "</div>"
      ],
      "text/plain": [
       "            id                                               text\n",
       "0            1  Der Flughafen Berlin Brandenburg verfügt über ...\n",
       "1            2  Успешное развитие общества, однако, возможно л...\n",
       "2            3  I øvrigt er kendetegnene for en magnetisk svag...\n",
       "3            4  Sowohl über den historischen Simon als auch üb...\n",
       "4            5  Emmure е формирана през 2003 г., когато Франки...\n",
       "...        ...                                                ...\n",
       "319995  399994  Sociální náklady stejně jako soukromé náklady ...\n",
       "319996  399995  Sljedećeg dana, glumac je malo zakasnio na set...\n",
       "319997  399996  İstiqlal Sarayı (), Yenidən Birleşme Sarayı ()...\n",
       "319998  399998  Nella serie \"Magico Vento\" figura il personagg...\n",
       "319999  399999  經過多年努力,物理學者仍舊無法將引力併入量子框架,更不必說與其他基本力統合。因此,他們轉移工...\n",
       "\n",
       "[320000 rows x 2 columns]"
      ]
     },
     "execution_count": 10,
     "metadata": {},
     "output_type": "execute_result"
    }
   ],
   "source": [
    "text_train"
   ]
  },
  {
   "cell_type": "code",
   "execution_count": 11,
   "metadata": {},
   "outputs": [
    {
     "data": {
      "text/html": [
       "<div>\n",
       "<style scoped>\n",
       "    .dataframe tbody tr th:only-of-type {\n",
       "        vertical-align: middle;\n",
       "    }\n",
       "\n",
       "    .dataframe tbody tr th {\n",
       "        vertical-align: top;\n",
       "    }\n",
       "\n",
       "    .dataframe thead th {\n",
       "        text-align: right;\n",
       "    }\n",
       "</style>\n",
       "<table border=\"1\" class=\"dataframe\">\n",
       "  <thead>\n",
       "    <tr style=\"text-align: right;\">\n",
       "      <th></th>\n",
       "      <th>id</th>\n",
       "      <th>lang</th>\n",
       "    </tr>\n",
       "  </thead>\n",
       "  <tbody>\n",
       "    <tr>\n",
       "      <th>0</th>\n",
       "      <td>1</td>\n",
       "      <td>de</td>\n",
       "    </tr>\n",
       "    <tr>\n",
       "      <th>1</th>\n",
       "      <td>2</td>\n",
       "      <td>ru</td>\n",
       "    </tr>\n",
       "    <tr>\n",
       "      <th>2</th>\n",
       "      <td>3</td>\n",
       "      <td>da</td>\n",
       "    </tr>\n",
       "    <tr>\n",
       "      <th>3</th>\n",
       "      <td>4</td>\n",
       "      <td>de</td>\n",
       "    </tr>\n",
       "    <tr>\n",
       "      <th>4</th>\n",
       "      <td>5</td>\n",
       "      <td>bg</td>\n",
       "    </tr>\n",
       "    <tr>\n",
       "      <th>...</th>\n",
       "      <td>...</td>\n",
       "      <td>...</td>\n",
       "    </tr>\n",
       "    <tr>\n",
       "      <th>319995</th>\n",
       "      <td>399994</td>\n",
       "      <td>cs</td>\n",
       "    </tr>\n",
       "    <tr>\n",
       "      <th>319996</th>\n",
       "      <td>399995</td>\n",
       "      <td>hr</td>\n",
       "    </tr>\n",
       "    <tr>\n",
       "      <th>319997</th>\n",
       "      <td>399996</td>\n",
       "      <td>az</td>\n",
       "    </tr>\n",
       "    <tr>\n",
       "      <th>319998</th>\n",
       "      <td>399998</td>\n",
       "      <td>it</td>\n",
       "    </tr>\n",
       "    <tr>\n",
       "      <th>319999</th>\n",
       "      <td>399999</td>\n",
       "      <td>zh</td>\n",
       "    </tr>\n",
       "  </tbody>\n",
       "</table>\n",
       "<p>320000 rows × 2 columns</p>\n",
       "</div>"
      ],
      "text/plain": [
       "            id lang\n",
       "0            1   de\n",
       "1            2   ru\n",
       "2            3   da\n",
       "3            4   de\n",
       "4            5   bg\n",
       "...        ...  ...\n",
       "319995  399994   cs\n",
       "319996  399995   hr\n",
       "319997  399996   az\n",
       "319998  399998   it\n",
       "319999  399999   zh\n",
       "\n",
       "[320000 rows x 2 columns]"
      ]
     },
     "execution_count": 11,
     "metadata": {},
     "output_type": "execute_result"
    }
   ],
   "source": [
    "targets_train"
   ]
  },
  {
   "cell_type": "code",
   "execution_count": 12,
   "metadata": {},
   "outputs": [
    {
     "name": "stdout",
     "output_type": "stream",
     "text": [
      "az: Çoxillik hündür otdur. Tamkənarlı yarpaqları növbəli düzülür. Qırmızı-bənövşəyi, göy, çəhrayı, sarı, ağ və s. çiçəkləri qıvrım çiçək qrupunda yerləşir. Ləçəkləri boruvarıdır. Meyvəsi toxumçadır. Avropa, Çənubi Asiya və Şimali Afrikada 25-dək, Azərbaycanda 3 növü məlumdur. Rütubətli yerlərdə bitir. Dərman xəndəkotunun (\"Symphytum officinalis\") kök və kökümsovunda alkaloid və aşı maddəsi var. Tibdə və baytarlıqda iltihaba qarşı və qankəsən dərman kimi istifadə edilir. Azərbaycanda bitən bərk xəndəkotu (\"Symphytum asperum\") donuz və adadovşanları üçün yemdir. Hər 2 növ yaxşı balverən, həmçinin boyaq bitkisidir. Yoğunkök xəndəkotu yeyilir. Qafqaz xəndəkotu, iriçiçək xəndəkotu və s. dekorativ bitki kimi becərilir.\n",
      "\n",
      "    b'\\xc3\\x87oxillik h\\xc3\\xbcnd\\xc3\\xbcr otdur. Tamk\\xc9\\x99narl\\xc4\\xb1 yarpaqlar\\xc4\\xb1 n\\xc3\\xb6vb\\xc9\\x99li d\\xc3\\xbcz\\xc3\\xbcl\\xc3\\xbcr. Q\\xc4\\xb1rm\\xc4\\xb1z\\xc4\\xb1-b\\xc9\\x99n\\xc3\\xb6v\\xc5\\x9f\\xc9\\x99yi, g\\xc3\\xb6y, \\xc3\\xa7\\xc9\\x99hray\\xc4\\xb1, sar\\xc4\\xb1, a\\xc4\\x9f v\\xc9\\x99 s. \\xc3\\xa7i\\xc3\\xa7\\xc9\\x99kl\\xc9\\x99ri q\\xc4\\xb1vr\\xc4\\xb1m \\xc3\\xa7i\\xc3\\xa7\\xc9\\x99k qrupunda yerl\\xc9\\x99\\xc5\\x9fir. L\\xc9\\x99\\xc3\\xa7\\xc9\\x99kl\\xc9\\x99ri boruvar\\xc4\\xb1d\\xc4\\xb1r. Meyv\\xc9\\x99si toxum\\xc3\\xa7ad\\xc4\\xb1r. Avropa, \\xc3\\x87\\xc9\\x99nubi Asiya v\\xc9\\x99 \\xc5\\x9eimali Afrikada 25-d\\xc9\\x99k, Az\\xc9\\x99rbaycanda 3 n\\xc3\\xb6v\\xc3\\xbc m\\xc9\\x99lumdur. R\\xc3\\xbctub\\xc9\\x99tli yerl\\xc9\\x99rd\\xc9\\x99 bitir. D\\xc9\\x99rman x\\xc9\\x99nd\\xc9\\x99kotunun (\"Symphytum officinalis\") k\\xc3\\xb6k v\\xc9\\x99 k\\xc3\\xb6k\\xc3\\xbcmsovunda alkaloid v\\xc9\\x99 a\\xc5\\x9f\\xc4\\xb1 madd\\xc9\\x99si var. Tibd\\xc9\\x99 v\\xc9\\x99 baytarl\\xc4\\xb1qda iltihaba qar\\xc5\\x9f\\xc4\\xb1 v\\xc9\\x99 qank\\xc9\\x99s\\xc9\\x99n d\\xc9\\x99rman kimi istifad\\xc9\\x99 edilir. Az\\xc9\\x99rbaycanda bit\\xc9\\x99n b\\xc9\\x99rk x\\xc9\\x99nd\\xc9\\x99kotu (\"Symphytum asperum\") donuz v\\xc9\\x99 adadov\\xc5\\x9fanlar\\xc4\\xb1 \\xc3\\xbc\\xc3\\xa7\\xc3\\xbcn yemdir. H\\xc9\\x99r 2 n\\xc3\\xb6v yax\\xc5\\x9f\\xc4\\xb1 balver\\xc9\\x99n, h\\xc9\\x99m\\xc3\\xa7inin boyaq bitkisidir. Yo\\xc4\\x9funk\\xc3\\xb6k x\\xc9\\x99nd\\xc9\\x99kotu yeyilir. Qafqaz x\\xc9\\x99nd\\xc9\\x99kotu, iri\\xc3\\xa7i\\xc3\\xa7\\xc9\\x99k x\\xc9\\x99nd\\xc9\\x99kotu v\\xc9\\x99 s. dekorativ bitki kimi bec\\xc9\\x99rilir.'\n",
      "\n",
      "ur: سا وائی (، ) ایک مشہور میانماری شاعر ہے۔ 22 جنوری 2008ء کو سا وائی کو میانماری ارباب مجاز نے ایک نظم کی اشاعت کی وجہ سے گرفتار کر لیا جو تھان شوے پر تنقید کر رہی تھی، جو میانمار میں اس وقت بر سر اقتدار فوجی دستے کے صدر تھے۔ اس نظم کا عنوان \"فروری کی چودہ\" تھا اور اسے رنگون کے \"اچیت جرنل\" (محبت کا جریدہ) میں چھاپا گیا۔ اگر اس نظم کے ہر مصرعے کا پہلا لفظ جوڑ کر دیکھا جائے تو یہ میانماری زبان میں بن رہا تھا \"اقتدار شوے سے پاگل ہے\"۔\n",
      "\n",
      "    b'\\xd8\\xb3\\xd8\\xa7 \\xd9\\x88\\xd8\\xa7\\xd8\\xa6\\xdb\\x8c (\\xd8\\x8c ) \\xd8\\xa7\\xdb\\x8c\\xda\\xa9 \\xd9\\x85\\xd8\\xb4\\xdb\\x81\\xd9\\x88\\xd8\\xb1 \\xd9\\x85\\xdb\\x8c\\xd8\\xa7\\xd9\\x86\\xd9\\x85\\xd8\\xa7\\xd8\\xb1\\xdb\\x8c \\xd8\\xb4\\xd8\\xa7\\xd8\\xb9\\xd8\\xb1 \\xdb\\x81\\xdb\\x92\\xdb\\x94 22 \\xd8\\xac\\xd9\\x86\\xd9\\x88\\xd8\\xb1\\xdb\\x8c 2008\\xd8\\xa1 \\xda\\xa9\\xd9\\x88 \\xd8\\xb3\\xd8\\xa7 \\xd9\\x88\\xd8\\xa7\\xd8\\xa6\\xdb\\x8c \\xda\\xa9\\xd9\\x88 \\xd9\\x85\\xdb\\x8c\\xd8\\xa7\\xd9\\x86\\xd9\\x85\\xd8\\xa7\\xd8\\xb1\\xdb\\x8c \\xd8\\xa7\\xd8\\xb1\\xd8\\xa8\\xd8\\xa7\\xd8\\xa8 \\xd9\\x85\\xd8\\xac\\xd8\\xa7\\xd8\\xb2 \\xd9\\x86\\xdb\\x92 \\xd8\\xa7\\xdb\\x8c\\xda\\xa9 \\xd9\\x86\\xd8\\xb8\\xd9\\x85 \\xda\\xa9\\xdb\\x8c \\xd8\\xa7\\xd8\\xb4\\xd8\\xa7\\xd8\\xb9\\xd8\\xaa \\xda\\xa9\\xdb\\x8c \\xd9\\x88\\xd8\\xac\\xdb\\x81 \\xd8\\xb3\\xdb\\x92 \\xda\\xaf\\xd8\\xb1\\xd9\\x81\\xd8\\xaa\\xd8\\xa7\\xd8\\xb1 \\xda\\xa9\\xd8\\xb1 \\xd9\\x84\\xdb\\x8c\\xd8\\xa7 \\xd8\\xac\\xd9\\x88 \\xd8\\xaa\\xda\\xbe\\xd8\\xa7\\xd9\\x86 \\xd8\\xb4\\xd9\\x88\\xdb\\x92 \\xd9\\xbe\\xd8\\xb1 \\xd8\\xaa\\xd9\\x86\\xd9\\x82\\xdb\\x8c\\xd8\\xaf \\xda\\xa9\\xd8\\xb1 \\xd8\\xb1\\xdb\\x81\\xdb\\x8c \\xd8\\xaa\\xda\\xbe\\xdb\\x8c\\xd8\\x8c \\xd8\\xac\\xd9\\x88 \\xd9\\x85\\xdb\\x8c\\xd8\\xa7\\xd9\\x86\\xd9\\x85\\xd8\\xa7\\xd8\\xb1 \\xd9\\x85\\xdb\\x8c\\xda\\xba \\xd8\\xa7\\xd8\\xb3 \\xd9\\x88\\xd9\\x82\\xd8\\xaa \\xd8\\xa8\\xd8\\xb1 \\xd8\\xb3\\xd8\\xb1 \\xd8\\xa7\\xd9\\x82\\xd8\\xaa\\xd8\\xaf\\xd8\\xa7\\xd8\\xb1 \\xd9\\x81\\xd9\\x88\\xd8\\xac\\xdb\\x8c \\xd8\\xaf\\xd8\\xb3\\xd8\\xaa\\xdb\\x92 \\xda\\xa9\\xdb\\x92 \\xd8\\xb5\\xd8\\xaf\\xd8\\xb1 \\xd8\\xaa\\xda\\xbe\\xdb\\x92\\xdb\\x94 \\xd8\\xa7\\xd8\\xb3 \\xd9\\x86\\xd8\\xb8\\xd9\\x85 \\xda\\xa9\\xd8\\xa7 \\xd8\\xb9\\xd9\\x86\\xd9\\x88\\xd8\\xa7\\xd9\\x86 \"\\xd9\\x81\\xd8\\xb1\\xd9\\x88\\xd8\\xb1\\xdb\\x8c \\xda\\xa9\\xdb\\x8c \\xda\\x86\\xd9\\x88\\xd8\\xaf\\xdb\\x81\" \\xd8\\xaa\\xda\\xbe\\xd8\\xa7 \\xd8\\xa7\\xd9\\x88\\xd8\\xb1 \\xd8\\xa7\\xd8\\xb3\\xdb\\x92 \\xd8\\xb1\\xd9\\x86\\xda\\xaf\\xd9\\x88\\xd9\\x86 \\xda\\xa9\\xdb\\x92 \"\\xd8\\xa7\\xda\\x86\\xdb\\x8c\\xd8\\xaa \\xd8\\xac\\xd8\\xb1\\xd9\\x86\\xd9\\x84\" (\\xd9\\x85\\xd8\\xad\\xd8\\xa8\\xd8\\xaa \\xda\\xa9\\xd8\\xa7 \\xd8\\xac\\xd8\\xb1\\xdb\\x8c\\xd8\\xaf\\xdb\\x81) \\xd9\\x85\\xdb\\x8c\\xda\\xba \\xda\\x86\\xda\\xbe\\xd8\\xa7\\xd9\\xbe\\xd8\\xa7 \\xda\\xaf\\xdb\\x8c\\xd8\\xa7\\xdb\\x94 \\xd8\\xa7\\xda\\xaf\\xd8\\xb1 \\xd8\\xa7\\xd8\\xb3 \\xd9\\x86\\xd8\\xb8\\xd9\\x85 \\xda\\xa9\\xdb\\x92 \\xdb\\x81\\xd8\\xb1 \\xd9\\x85\\xd8\\xb5\\xd8\\xb1\\xd8\\xb9\\xdb\\x92 \\xda\\xa9\\xd8\\xa7 \\xd9\\xbe\\xdb\\x81\\xd9\\x84\\xd8\\xa7 \\xd9\\x84\\xd9\\x81\\xd8\\xb8 \\xd8\\xac\\xd9\\x88\\xda\\x91 \\xda\\xa9\\xd8\\xb1 \\xd8\\xaf\\xdb\\x8c\\xda\\xa9\\xda\\xbe\\xd8\\xa7 \\xd8\\xac\\xd8\\xa7\\xd8\\xa6\\xdb\\x92 \\xd8\\xaa\\xd9\\x88 \\xdb\\x8c\\xdb\\x81 \\xd9\\x85\\xdb\\x8c\\xd8\\xa7\\xd9\\x86\\xd9\\x85\\xd8\\xa7\\xd8\\xb1\\xdb\\x8c \\xd8\\xb2\\xd8\\xa8\\xd8\\xa7\\xd9\\x86 \\xd9\\x85\\xdb\\x8c\\xda\\xba \\xd8\\xa8\\xd9\\x86 \\xd8\\xb1\\xdb\\x81\\xd8\\xa7 \\xd8\\xaa\\xda\\xbe\\xd8\\xa7 \"\\xd8\\xa7\\xd9\\x82\\xd8\\xaa\\xd8\\xaf\\xd8\\xa7\\xd8\\xb1 \\xd8\\xb4\\xd9\\x88\\xdb\\x92 \\xd8\\xb3\\xdb\\x92 \\xd9\\xbe\\xd8\\xa7\\xda\\xaf\\xd9\\x84 \\xdb\\x81\\xdb\\x92\"\\xdb\\x94'\n",
      "\n",
      "ko: 1897년 10월 12일 대한제국 고종은 환구단(圜丘壇)을 짓고 하늘에 제사를 지낸 후 국호를 대한국(大韓國), 연호를 광무(光武)로 정하고, 초대 황제로 즉위했다. 고종은 1882년부터 사용하던 태극기(太極旗)를 국기로 정하고, 국장을 이화문(李花紋)으로 하였으며, 애국가(愛國歌)를 국가로 하였다. 대한제국은 자주성과 독립성을 한층 강하게 표방하고자 사용된 의례상·의전상 국호로, 대한제국의 국명은 ‘대한(大韓)’이다. 대한이라는 말은 '삼한(三韓)'에서 유래한 것으로 고구려, 백제 그리고 신라를 통틀어서 삼한이라 불렀는데, 그 삼한이 통일되었다는 의미에서 대한이라 한다. 여기서 대한제국의 국호의 어원을 설명하는 내용에서 나오는 마한, 진한, 변한은 4세기 이전 한반도 남부의 삼한을 가리키는 것이 아닌 10세기의 후삼국 시대의 후고구려, 후백제, 신라를 가리킨다. 뒷 문장에 마한, 진한, 변한이 고려에 이르러서 통합되었다는 구절이 나오기 때문이다. 여기에 국호를 변경하면서 제국이라고 선포하였기에 ‘제’(帝)가 더해져 대한제국이 되었다. 대한이라는 이름은 1919년 4월 11일 수립된 대한민국 임시 정부가 \"대한으로 망했으니 대한으로 다시 흥해보자\"는 취지로 국호로 재사용했고, 1948년 8월 15일 수립된 대한민국 정부에 그대로 이어졌다.\n",
      "\n",
      "    b'1897\\xeb\\x85\\x84 10\\xec\\x9b\\x94 12\\xec\\x9d\\xbc \\xeb\\x8c\\x80\\xed\\x95\\x9c\\xec\\xa0\\x9c\\xea\\xb5\\xad \\xea\\xb3\\xa0\\xec\\xa2\\x85\\xec\\x9d\\x80 \\xed\\x99\\x98\\xea\\xb5\\xac\\xeb\\x8b\\xa8(\\xe5\\x9c\\x9c\\xe4\\xb8\\x98\\xe5\\xa3\\x87)\\xec\\x9d\\x84 \\xec\\xa7\\x93\\xea\\xb3\\xa0 \\xed\\x95\\x98\\xeb\\x8a\\x98\\xec\\x97\\x90 \\xec\\xa0\\x9c\\xec\\x82\\xac\\xeb\\xa5\\xbc \\xec\\xa7\\x80\\xeb\\x82\\xb8 \\xed\\x9b\\x84 \\xea\\xb5\\xad\\xed\\x98\\xb8\\xeb\\xa5\\xbc \\xeb\\x8c\\x80\\xed\\x95\\x9c\\xea\\xb5\\xad(\\xe5\\xa4\\xa7\\xe9\\x9f\\x93\\xe5\\x9c\\x8b), \\xec\\x97\\xb0\\xed\\x98\\xb8\\xeb\\xa5\\xbc \\xea\\xb4\\x91\\xeb\\xac\\xb4(\\xe5\\x85\\x89\\xe6\\xad\\xa6)\\xeb\\xa1\\x9c \\xec\\xa0\\x95\\xed\\x95\\x98\\xea\\xb3\\xa0, \\xec\\xb4\\x88\\xeb\\x8c\\x80 \\xed\\x99\\xa9\\xec\\xa0\\x9c\\xeb\\xa1\\x9c \\xec\\xa6\\x89\\xec\\x9c\\x84\\xed\\x96\\x88\\xeb\\x8b\\xa4. \\xea\\xb3\\xa0\\xec\\xa2\\x85\\xec\\x9d\\x80 1882\\xeb\\x85\\x84\\xeb\\xb6\\x80\\xed\\x84\\xb0 \\xec\\x82\\xac\\xec\\x9a\\xa9\\xed\\x95\\x98\\xeb\\x8d\\x98 \\xed\\x83\\x9c\\xea\\xb7\\xb9\\xea\\xb8\\xb0(\\xe5\\xa4\\xaa\\xe6\\xa5\\xb5\\xe6\\x97\\x97)\\xeb\\xa5\\xbc \\xea\\xb5\\xad\\xea\\xb8\\xb0\\xeb\\xa1\\x9c \\xec\\xa0\\x95\\xed\\x95\\x98\\xea\\xb3\\xa0, \\xea\\xb5\\xad\\xec\\x9e\\xa5\\xec\\x9d\\x84 \\xec\\x9d\\xb4\\xed\\x99\\x94\\xeb\\xac\\xb8(\\xe6\\x9d\\x8e\\xe8\\x8a\\xb1\\xe7\\xb4\\x8b)\\xec\\x9c\\xbc\\xeb\\xa1\\x9c \\xed\\x95\\x98\\xec\\x98\\x80\\xec\\x9c\\xbc\\xeb\\xa9\\xb0, \\xec\\x95\\xa0\\xea\\xb5\\xad\\xea\\xb0\\x80(\\xe6\\x84\\x9b\\xe5\\x9c\\x8b\\xe6\\xad\\x8c)\\xeb\\xa5\\xbc \\xea\\xb5\\xad\\xea\\xb0\\x80\\xeb\\xa1\\x9c \\xed\\x95\\x98\\xec\\x98\\x80\\xeb\\x8b\\xa4. \\xeb\\x8c\\x80\\xed\\x95\\x9c\\xec\\xa0\\x9c\\xea\\xb5\\xad\\xec\\x9d\\x80 \\xec\\x9e\\x90\\xec\\xa3\\xbc\\xec\\x84\\xb1\\xea\\xb3\\xbc \\xeb\\x8f\\x85\\xeb\\xa6\\xbd\\xec\\x84\\xb1\\xec\\x9d\\x84 \\xed\\x95\\x9c\\xec\\xb8\\xb5 \\xea\\xb0\\x95\\xed\\x95\\x98\\xea\\xb2\\x8c \\xed\\x91\\x9c\\xeb\\xb0\\xa9\\xed\\x95\\x98\\xea\\xb3\\xa0\\xec\\x9e\\x90 \\xec\\x82\\xac\\xec\\x9a\\xa9\\xeb\\x90\\x9c \\xec\\x9d\\x98\\xeb\\xa1\\x80\\xec\\x83\\x81\\xc2\\xb7\\xec\\x9d\\x98\\xec\\xa0\\x84\\xec\\x83\\x81 \\xea\\xb5\\xad\\xed\\x98\\xb8\\xeb\\xa1\\x9c, \\xeb\\x8c\\x80\\xed\\x95\\x9c\\xec\\xa0\\x9c\\xea\\xb5\\xad\\xec\\x9d\\x98 \\xea\\xb5\\xad\\xeb\\xaa\\x85\\xec\\x9d\\x80 \\xe2\\x80\\x98\\xeb\\x8c\\x80\\xed\\x95\\x9c(\\xe5\\xa4\\xa7\\xe9\\x9f\\x93)\\xe2\\x80\\x99\\xec\\x9d\\xb4\\xeb\\x8b\\xa4. \\xeb\\x8c\\x80\\xed\\x95\\x9c\\xec\\x9d\\xb4\\xeb\\x9d\\xbc\\xeb\\x8a\\x94 \\xeb\\xa7\\x90\\xec\\x9d\\x80 \\'\\xec\\x82\\xbc\\xed\\x95\\x9c(\\xe4\\xb8\\x89\\xe9\\x9f\\x93)\\'\\xec\\x97\\x90\\xec\\x84\\x9c \\xec\\x9c\\xa0\\xeb\\x9e\\x98\\xed\\x95\\x9c \\xea\\xb2\\x83\\xec\\x9c\\xbc\\xeb\\xa1\\x9c \\xea\\xb3\\xa0\\xea\\xb5\\xac\\xeb\\xa0\\xa4, \\xeb\\xb0\\xb1\\xec\\xa0\\x9c \\xea\\xb7\\xb8\\xeb\\xa6\\xac\\xea\\xb3\\xa0 \\xec\\x8b\\xa0\\xeb\\x9d\\xbc\\xeb\\xa5\\xbc \\xed\\x86\\xb5\\xed\\x8b\\x80\\xec\\x96\\xb4\\xec\\x84\\x9c \\xec\\x82\\xbc\\xed\\x95\\x9c\\xec\\x9d\\xb4\\xeb\\x9d\\xbc \\xeb\\xb6\\x88\\xeb\\xa0\\x80\\xeb\\x8a\\x94\\xeb\\x8d\\xb0, \\xea\\xb7\\xb8 \\xec\\x82\\xbc\\xed\\x95\\x9c\\xec\\x9d\\xb4 \\xed\\x86\\xb5\\xec\\x9d\\xbc\\xeb\\x90\\x98\\xec\\x97\\x88\\xeb\\x8b\\xa4\\xeb\\x8a\\x94 \\xec\\x9d\\x98\\xeb\\xaf\\xb8\\xec\\x97\\x90\\xec\\x84\\x9c \\xeb\\x8c\\x80\\xed\\x95\\x9c\\xec\\x9d\\xb4\\xeb\\x9d\\xbc \\xed\\x95\\x9c\\xeb\\x8b\\xa4. \\xec\\x97\\xac\\xea\\xb8\\xb0\\xec\\x84\\x9c \\xeb\\x8c\\x80\\xed\\x95\\x9c\\xec\\xa0\\x9c\\xea\\xb5\\xad\\xec\\x9d\\x98 \\xea\\xb5\\xad\\xed\\x98\\xb8\\xec\\x9d\\x98 \\xec\\x96\\xb4\\xec\\x9b\\x90\\xec\\x9d\\x84 \\xec\\x84\\xa4\\xeb\\xaa\\x85\\xed\\x95\\x98\\xeb\\x8a\\x94 \\xeb\\x82\\xb4\\xec\\x9a\\xa9\\xec\\x97\\x90\\xec\\x84\\x9c \\xeb\\x82\\x98\\xec\\x98\\xa4\\xeb\\x8a\\x94 \\xeb\\xa7\\x88\\xed\\x95\\x9c, \\xec\\xa7\\x84\\xed\\x95\\x9c, \\xeb\\xb3\\x80\\xed\\x95\\x9c\\xec\\x9d\\x80 4\\xec\\x84\\xb8\\xea\\xb8\\xb0 \\xec\\x9d\\xb4\\xec\\xa0\\x84 \\xed\\x95\\x9c\\xeb\\xb0\\x98\\xeb\\x8f\\x84 \\xeb\\x82\\xa8\\xeb\\xb6\\x80\\xec\\x9d\\x98 \\xec\\x82\\xbc\\xed\\x95\\x9c\\xec\\x9d\\x84 \\xea\\xb0\\x80\\xeb\\xa6\\xac\\xed\\x82\\xa4\\xeb\\x8a\\x94 \\xea\\xb2\\x83\\xec\\x9d\\xb4 \\xec\\x95\\x84\\xeb\\x8b\\x8c 10\\xec\\x84\\xb8\\xea\\xb8\\xb0\\xec\\x9d\\x98 \\xed\\x9b\\x84\\xec\\x82\\xbc\\xea\\xb5\\xad \\xec\\x8b\\x9c\\xeb\\x8c\\x80\\xec\\x9d\\x98 \\xed\\x9b\\x84\\xea\\xb3\\xa0\\xea\\xb5\\xac\\xeb\\xa0\\xa4, \\xed\\x9b\\x84\\xeb\\xb0\\xb1\\xec\\xa0\\x9c, \\xec\\x8b\\xa0\\xeb\\x9d\\xbc\\xeb\\xa5\\xbc \\xea\\xb0\\x80\\xeb\\xa6\\xac\\xed\\x82\\xa8\\xeb\\x8b\\xa4. \\xeb\\x92\\xb7 \\xeb\\xac\\xb8\\xec\\x9e\\xa5\\xec\\x97\\x90 \\xeb\\xa7\\x88\\xed\\x95\\x9c, \\xec\\xa7\\x84\\xed\\x95\\x9c, \\xeb\\xb3\\x80\\xed\\x95\\x9c\\xec\\x9d\\xb4 \\xea\\xb3\\xa0\\xeb\\xa0\\xa4\\xec\\x97\\x90 \\xec\\x9d\\xb4\\xeb\\xa5\\xb4\\xeb\\x9f\\xac\\xec\\x84\\x9c \\xed\\x86\\xb5\\xed\\x95\\xa9\\xeb\\x90\\x98\\xec\\x97\\x88\\xeb\\x8b\\xa4\\xeb\\x8a\\x94 \\xea\\xb5\\xac\\xec\\xa0\\x88\\xec\\x9d\\xb4 \\xeb\\x82\\x98\\xec\\x98\\xa4\\xea\\xb8\\xb0 \\xeb\\x95\\x8c\\xeb\\xac\\xb8\\xec\\x9d\\xb4\\xeb\\x8b\\xa4. \\xec\\x97\\xac\\xea\\xb8\\xb0\\xec\\x97\\x90 \\xea\\xb5\\xad\\xed\\x98\\xb8\\xeb\\xa5\\xbc \\xeb\\xb3\\x80\\xea\\xb2\\xbd\\xed\\x95\\x98\\xeb\\xa9\\xb4\\xec\\x84\\x9c \\xec\\xa0\\x9c\\xea\\xb5\\xad\\xec\\x9d\\xb4\\xeb\\x9d\\xbc\\xea\\xb3\\xa0 \\xec\\x84\\xa0\\xed\\x8f\\xac\\xed\\x95\\x98\\xec\\x98\\x80\\xea\\xb8\\xb0\\xec\\x97\\x90 \\xe2\\x80\\x98\\xec\\xa0\\x9c\\xe2\\x80\\x99(\\xe5\\xb8\\x9d)\\xea\\xb0\\x80 \\xeb\\x8d\\x94\\xed\\x95\\xb4\\xec\\xa0\\xb8 \\xeb\\x8c\\x80\\xed\\x95\\x9c\\xec\\xa0\\x9c\\xea\\xb5\\xad\\xec\\x9d\\xb4 \\xeb\\x90\\x98\\xec\\x97\\x88\\xeb\\x8b\\xa4. \\xeb\\x8c\\x80\\xed\\x95\\x9c\\xec\\x9d\\xb4\\xeb\\x9d\\xbc\\xeb\\x8a\\x94 \\xec\\x9d\\xb4\\xeb\\xa6\\x84\\xec\\x9d\\x80 1919\\xeb\\x85\\x84 4\\xec\\x9b\\x94 11\\xec\\x9d\\xbc \\xec\\x88\\x98\\xeb\\xa6\\xbd\\xeb\\x90\\x9c \\xeb\\x8c\\x80\\xed\\x95\\x9c\\xeb\\xaf\\xbc\\xea\\xb5\\xad \\xec\\x9e\\x84\\xec\\x8b\\x9c \\xec\\xa0\\x95\\xeb\\xb6\\x80\\xea\\xb0\\x80 \"\\xeb\\x8c\\x80\\xed\\x95\\x9c\\xec\\x9c\\xbc\\xeb\\xa1\\x9c \\xeb\\xa7\\x9d\\xed\\x96\\x88\\xec\\x9c\\xbc\\xeb\\x8b\\x88 \\xeb\\x8c\\x80\\xed\\x95\\x9c\\xec\\x9c\\xbc\\xeb\\xa1\\x9c \\xeb\\x8b\\xa4\\xec\\x8b\\x9c \\xed\\x9d\\xa5\\xed\\x95\\xb4\\xeb\\xb3\\xb4\\xec\\x9e\\x90\"\\xeb\\x8a\\x94 \\xec\\xb7\\xa8\\xec\\xa7\\x80\\xeb\\xa1\\x9c \\xea\\xb5\\xad\\xed\\x98\\xb8\\xeb\\xa1\\x9c \\xec\\x9e\\xac\\xec\\x82\\xac\\xec\\x9a\\xa9\\xed\\x96\\x88\\xea\\xb3\\xa0, 1948\\xeb\\x85\\x84 8\\xec\\x9b\\x94 15\\xec\\x9d\\xbc \\xec\\x88\\x98\\xeb\\xa6\\xbd\\xeb\\x90\\x9c \\xeb\\x8c\\x80\\xed\\x95\\x9c\\xeb\\xaf\\xbc\\xea\\xb5\\xad \\xec\\xa0\\x95\\xeb\\xb6\\x80\\xec\\x97\\x90 \\xea\\xb7\\xb8\\xeb\\x8c\\x80\\xeb\\xa1\\x9c \\xec\\x9d\\xb4\\xec\\x96\\xb4\\xec\\xa1\\x8c\\xeb\\x8b\\xa4.'\n",
      "\n",
      "bg: Всички 53 нации от УЕФА участват в квалификациите и 13 отбора ще се класират за световното 2014. Тегленето за квалификационните групи бе на 30 юли 2011 в Рио де Жанейро, Бразилия. Форматът ще е същият като през 2010. Отборите са разделени в осем групи по шест отбора и една група от пет. Деветте победители от групите отиват направо на финалите, а осем от подгласниците се разпределят чрез жребий по двойки и играят допълнителни два мача-баражи на разменено гостуване за останалите четири места. Вторият отбор, постигнал най-слаби резултати срещу първия, третия, четвъртия и петия в своята група, не се класира на бараж.\n",
      "\n",
      "    b'\\xd0\\x92\\xd1\\x81\\xd0\\xb8\\xd1\\x87\\xd0\\xba\\xd0\\xb8 53 \\xd0\\xbd\\xd0\\xb0\\xd1\\x86\\xd0\\xb8\\xd0\\xb8 \\xd0\\xbe\\xd1\\x82 \\xd0\\xa3\\xd0\\x95\\xd0\\xa4\\xd0\\x90 \\xd1\\x83\\xd1\\x87\\xd0\\xb0\\xd1\\x81\\xd1\\x82\\xd0\\xb2\\xd0\\xb0\\xd1\\x82 \\xd0\\xb2 \\xd0\\xba\\xd0\\xb2\\xd0\\xb0\\xd0\\xbb\\xd0\\xb8\\xd1\\x84\\xd0\\xb8\\xd0\\xba\\xd0\\xb0\\xd1\\x86\\xd0\\xb8\\xd0\\xb8\\xd1\\x82\\xd0\\xb5 \\xd0\\xb8 13 \\xd0\\xbe\\xd1\\x82\\xd0\\xb1\\xd0\\xbe\\xd1\\x80\\xd0\\xb0 \\xd1\\x89\\xd0\\xb5 \\xd1\\x81\\xd0\\xb5 \\xd0\\xba\\xd0\\xbb\\xd0\\xb0\\xd1\\x81\\xd0\\xb8\\xd1\\x80\\xd0\\xb0\\xd1\\x82 \\xd0\\xb7\\xd0\\xb0 \\xd1\\x81\\xd0\\xb2\\xd0\\xb5\\xd1\\x82\\xd0\\xbe\\xd0\\xb2\\xd0\\xbd\\xd0\\xbe\\xd1\\x82\\xd0\\xbe 2014. \\xd0\\xa2\\xd0\\xb5\\xd0\\xb3\\xd0\\xbb\\xd0\\xb5\\xd0\\xbd\\xd0\\xb5\\xd1\\x82\\xd0\\xbe \\xd0\\xb7\\xd0\\xb0 \\xd0\\xba\\xd0\\xb2\\xd0\\xb0\\xd0\\xbb\\xd0\\xb8\\xd1\\x84\\xd0\\xb8\\xd0\\xba\\xd0\\xb0\\xd1\\x86\\xd0\\xb8\\xd0\\xbe\\xd0\\xbd\\xd0\\xbd\\xd0\\xb8\\xd1\\x82\\xd0\\xb5 \\xd0\\xb3\\xd1\\x80\\xd1\\x83\\xd0\\xbf\\xd0\\xb8 \\xd0\\xb1\\xd0\\xb5 \\xd0\\xbd\\xd0\\xb0 30 \\xd1\\x8e\\xd0\\xbb\\xd0\\xb8 2011 \\xd0\\xb2 \\xd0\\xa0\\xd0\\xb8\\xd0\\xbe \\xd0\\xb4\\xd0\\xb5 \\xd0\\x96\\xd0\\xb0\\xd0\\xbd\\xd0\\xb5\\xd0\\xb9\\xd1\\x80\\xd0\\xbe, \\xd0\\x91\\xd1\\x80\\xd0\\xb0\\xd0\\xb7\\xd0\\xb8\\xd0\\xbb\\xd0\\xb8\\xd1\\x8f. \\xd0\\xa4\\xd0\\xbe\\xd1\\x80\\xd0\\xbc\\xd0\\xb0\\xd1\\x82\\xd1\\x8a\\xd1\\x82 \\xd1\\x89\\xd0\\xb5 \\xd0\\xb5 \\xd1\\x81\\xd1\\x8a\\xd1\\x89\\xd0\\xb8\\xd1\\x8f\\xd1\\x82 \\xd0\\xba\\xd0\\xb0\\xd1\\x82\\xd0\\xbe \\xd0\\xbf\\xd1\\x80\\xd0\\xb5\\xd0\\xb7 2010. \\xd0\\x9e\\xd1\\x82\\xd0\\xb1\\xd0\\xbe\\xd1\\x80\\xd0\\xb8\\xd1\\x82\\xd0\\xb5 \\xd1\\x81\\xd0\\xb0 \\xd1\\x80\\xd0\\xb0\\xd0\\xb7\\xd0\\xb4\\xd0\\xb5\\xd0\\xbb\\xd0\\xb5\\xd0\\xbd\\xd0\\xb8 \\xd0\\xb2 \\xd0\\xbe\\xd1\\x81\\xd0\\xb5\\xd0\\xbc \\xd0\\xb3\\xd1\\x80\\xd1\\x83\\xd0\\xbf\\xd0\\xb8 \\xd0\\xbf\\xd0\\xbe \\xd1\\x88\\xd0\\xb5\\xd1\\x81\\xd1\\x82 \\xd0\\xbe\\xd1\\x82\\xd0\\xb1\\xd0\\xbe\\xd1\\x80\\xd0\\xb0 \\xd0\\xb8 \\xd0\\xb5\\xd0\\xb4\\xd0\\xbd\\xd0\\xb0 \\xd0\\xb3\\xd1\\x80\\xd1\\x83\\xd0\\xbf\\xd0\\xb0 \\xd0\\xbe\\xd1\\x82 \\xd0\\xbf\\xd0\\xb5\\xd1\\x82. \\xd0\\x94\\xd0\\xb5\\xd0\\xb2\\xd0\\xb5\\xd1\\x82\\xd1\\x82\\xd0\\xb5 \\xd0\\xbf\\xd0\\xbe\\xd0\\xb1\\xd0\\xb5\\xd0\\xb4\\xd0\\xb8\\xd1\\x82\\xd0\\xb5\\xd0\\xbb\\xd0\\xb8 \\xd0\\xbe\\xd1\\x82 \\xd0\\xb3\\xd1\\x80\\xd1\\x83\\xd0\\xbf\\xd0\\xb8\\xd1\\x82\\xd0\\xb5 \\xd0\\xbe\\xd1\\x82\\xd0\\xb8\\xd0\\xb2\\xd0\\xb0\\xd1\\x82 \\xd0\\xbd\\xd0\\xb0\\xd0\\xbf\\xd1\\x80\\xd0\\xb0\\xd0\\xb2\\xd0\\xbe \\xd0\\xbd\\xd0\\xb0 \\xd1\\x84\\xd0\\xb8\\xd0\\xbd\\xd0\\xb0\\xd0\\xbb\\xd0\\xb8\\xd1\\x82\\xd0\\xb5, \\xd0\\xb0 \\xd0\\xbe\\xd1\\x81\\xd0\\xb5\\xd0\\xbc \\xd0\\xbe\\xd1\\x82 \\xd0\\xbf\\xd0\\xbe\\xd0\\xb4\\xd0\\xb3\\xd0\\xbb\\xd0\\xb0\\xd1\\x81\\xd0\\xbd\\xd0\\xb8\\xd1\\x86\\xd0\\xb8\\xd1\\x82\\xd0\\xb5 \\xd1\\x81\\xd0\\xb5 \\xd1\\x80\\xd0\\xb0\\xd0\\xb7\\xd0\\xbf\\xd1\\x80\\xd0\\xb5\\xd0\\xb4\\xd0\\xb5\\xd0\\xbb\\xd1\\x8f\\xd1\\x82 \\xd1\\x87\\xd1\\x80\\xd0\\xb5\\xd0\\xb7 \\xd0\\xb6\\xd1\\x80\\xd0\\xb5\\xd0\\xb1\\xd0\\xb8\\xd0\\xb9 \\xd0\\xbf\\xd0\\xbe \\xd0\\xb4\\xd0\\xb2\\xd0\\xbe\\xd0\\xb9\\xd0\\xba\\xd0\\xb8 \\xd0\\xb8 \\xd0\\xb8\\xd0\\xb3\\xd1\\x80\\xd0\\xb0\\xd1\\x8f\\xd1\\x82 \\xd0\\xb4\\xd0\\xbe\\xd0\\xbf\\xd1\\x8a\\xd0\\xbb\\xd0\\xbd\\xd0\\xb8\\xd1\\x82\\xd0\\xb5\\xd0\\xbb\\xd0\\xbd\\xd0\\xb8 \\xd0\\xb4\\xd0\\xb2\\xd0\\xb0 \\xd0\\xbc\\xd0\\xb0\\xd1\\x87\\xd0\\xb0-\\xd0\\xb1\\xd0\\xb0\\xd1\\x80\\xd0\\xb0\\xd0\\xb6\\xd0\\xb8 \\xd0\\xbd\\xd0\\xb0 \\xd1\\x80\\xd0\\xb0\\xd0\\xb7\\xd0\\xbc\\xd0\\xb5\\xd0\\xbd\\xd0\\xb5\\xd0\\xbd\\xd0\\xbe \\xd0\\xb3\\xd0\\xbe\\xd1\\x81\\xd1\\x82\\xd1\\x83\\xd0\\xb2\\xd0\\xb0\\xd0\\xbd\\xd0\\xb5 \\xd0\\xb7\\xd0\\xb0 \\xd0\\xbe\\xd1\\x81\\xd1\\x82\\xd0\\xb0\\xd0\\xbd\\xd0\\xb0\\xd0\\xbb\\xd0\\xb8\\xd1\\x82\\xd0\\xb5 \\xd1\\x87\\xd0\\xb5\\xd1\\x82\\xd0\\xb8\\xd1\\x80\\xd0\\xb8 \\xd0\\xbc\\xd0\\xb5\\xd1\\x81\\xd1\\x82\\xd0\\xb0. \\xd0\\x92\\xd1\\x82\\xd0\\xbe\\xd1\\x80\\xd0\\xb8\\xd1\\x8f\\xd1\\x82 \\xd0\\xbe\\xd1\\x82\\xd0\\xb1\\xd0\\xbe\\xd1\\x80, \\xd0\\xbf\\xd0\\xbe\\xd1\\x81\\xd1\\x82\\xd0\\xb8\\xd0\\xb3\\xd0\\xbd\\xd0\\xb0\\xd0\\xbb \\xd0\\xbd\\xd0\\xb0\\xd0\\xb9-\\xd1\\x81\\xd0\\xbb\\xd0\\xb0\\xd0\\xb1\\xd0\\xb8 \\xd1\\x80\\xd0\\xb5\\xd0\\xb7\\xd1\\x83\\xd0\\xbb\\xd1\\x82\\xd0\\xb0\\xd1\\x82\\xd0\\xb8 \\xd1\\x81\\xd1\\x80\\xd0\\xb5\\xd1\\x89\\xd1\\x83 \\xd0\\xbf\\xd1\\x8a\\xd1\\x80\\xd0\\xb2\\xd0\\xb8\\xd1\\x8f, \\xd1\\x82\\xd1\\x80\\xd0\\xb5\\xd1\\x82\\xd0\\xb8\\xd1\\x8f, \\xd1\\x87\\xd0\\xb5\\xd1\\x82\\xd0\\xb2\\xd1\\x8a\\xd1\\x80\\xd1\\x82\\xd0\\xb8\\xd1\\x8f \\xd0\\xb8 \\xd0\\xbf\\xd0\\xb5\\xd1\\x82\\xd0\\xb8\\xd1\\x8f \\xd0\\xb2 \\xd1\\x81\\xd0\\xb2\\xd0\\xbe\\xd1\\x8f\\xd1\\x82\\xd0\\xb0 \\xd0\\xb3\\xd1\\x80\\xd1\\x83\\xd0\\xbf\\xd0\\xb0, \\xd0\\xbd\\xd0\\xb5 \\xd1\\x81\\xd0\\xb5 \\xd0\\xba\\xd0\\xbb\\xd0\\xb0\\xd1\\x81\\xd0\\xb8\\xd1\\x80\\xd0\\xb0 \\xd0\\xbd\\xd0\\xb0 \\xd0\\xb1\\xd0\\xb0\\xd1\\x80\\xd0\\xb0\\xd0\\xb6.'\n",
      "\n",
      "fi: Tiineys tarkoittaa nisäkkään raskautta eli aikaa, jolloin hedelmöittynyt munasolu kehittyy naaraan elimistössä alkioksi ja sikiöksi. Tiineys päättyy normaalisti synnytykseen. Se voi päättyä myös ennenaikaisesti blastokystin kiinnittymishäiriöön, spontaaniin keskenmenoon, tai indusoituun keskenmenoon eli aborttiin. Tiineyden kesto vaihtelee eläinlajien välillä parista-kolmesta viikosta jopa yli vuoteen. Pisin tiineysaika on afrikannorsulla: noin 95 viikkoa eli liki 22 kuukautta.\n",
      "\n",
      "    b'Tiineys tarkoittaa nis\\xc3\\xa4kk\\xc3\\xa4\\xc3\\xa4n raskautta eli aikaa, jolloin hedelm\\xc3\\xb6ittynyt munasolu kehittyy naaraan elimist\\xc3\\xb6ss\\xc3\\xa4 alkioksi ja siki\\xc3\\xb6ksi. Tiineys p\\xc3\\xa4\\xc3\\xa4ttyy normaalisti synnytykseen. Se voi p\\xc3\\xa4\\xc3\\xa4tty\\xc3\\xa4 my\\xc3\\xb6s ennenaikaisesti blastokystin kiinnittymish\\xc3\\xa4iri\\xc3\\xb6\\xc3\\xb6n, spontaaniin keskenmenoon, tai indusoituun keskenmenoon eli aborttiin. Tiineyden kesto vaihtelee el\\xc3\\xa4inlajien v\\xc3\\xa4lill\\xc3\\xa4 parista-kolmesta viikosta jopa yli vuoteen. Pisin tiineysaika on afrikannorsulla: noin 95 viikkoa eli liki 22 kuukautta.'\n",
      "\n"
     ]
    }
   ],
   "source": [
    "for i in range(5, 10):\n",
    "    print(f\"{targets_train['lang'][i]}: {text_train['text'][i]}\\n\")\n",
    "    print(f\"    {text_train['text'][i].encode('utf-8')}\\n\")"
   ]
  },
  {
   "cell_type": "markdown",
   "metadata": {},
   "source": [
    "# Train Dataset\n",
    "The dataset consists of 20 different languages. Each occures with a number of 16 000 texts in the train dataset.  "
   ]
  },
  {
   "cell_type": "code",
   "execution_count": 13,
   "metadata": {},
   "outputs": [
    {
     "name": "stdout",
     "output_type": "stream",
     "text": [
      "af (16000) :  Afrikaans\n",
      "az (16000) :  Azerbaijani\n",
      "bg (16000) :  Bulgarian\n",
      "cs (16000) :  Czech\n",
      "da (16000) :  Danish\n",
      "de (16000) :  German\n",
      "el (16000) :  Modern Greek (1453-)\n",
      "en (16000) :  English\n",
      "es (16000) :  Spanish\n",
      "fi (16000) :  Finnish\n",
      "fr (16000) :  French\n",
      "hr (16000) :  Croatian\n",
      "it (16000) :  Italian\n",
      "ko (16000) :  Korean\n",
      "nl (16000) :  Dutch\n",
      "no (16000) :  Norwegian\n",
      "pl (16000) :  Polish\n",
      "ru (16000) :  Russian\n",
      "ur (16000) :  Urdu\n",
      "zh (16000) :  Chinese\n"
     ]
    }
   ],
   "source": [
    "# pip install iso-639\n",
    "from iso639 import languages\n",
    "langs = np.unique(targets_train['lang'])\n",
    "for l in langs:\n",
    "    print(f\"{l} ({np.sum(targets_train['lang'] == l)}) :  {languages.get(alpha2=l).name}\")"
   ]
  },
  {
   "cell_type": "code",
   "execution_count": 14,
   "metadata": {},
   "outputs": [],
   "source": [
    "def get_block(*ranges):\n",
    "    block = []\n",
    "    for r in ranges:\n",
    "        r = r.split('-')\n",
    "        block += list(range(int(r[0], 16), int(r[1], 16) + 1))\n",
    "    return block"
   ]
  },
  {
   "cell_type": "markdown",
   "metadata": {},
   "source": [
    "# Greek\n",
    "Measuring the frequency of el letters (Unicode U+0370 - U+03FF) in el train texts:"
   ]
  },
  {
   "cell_type": "code",
   "execution_count": 29,
   "metadata": {},
   "outputs": [
    {
     "data": {
      "text/plain": [
       "0.7820118375034697"
      ]
     },
     "execution_count": 29,
     "metadata": {},
     "output_type": "execute_result"
    }
   ],
   "source": [
    "el_texts = text_train['text'][targets_train['lang'] == 'el']\n",
    "el_block = get_block('0370-03FF')\n",
    "\n",
    "mean_freq = 0\n",
    "for el_text in el_texts:\n",
    "    encoded = np.array([ord(c) for c in el_text])\n",
    "    freq = np.sum(np.isin(encoded, el_block)) / len(encoded)\n",
    "    other_chars = np.array([chr(c) for c in encoded[~np.isin(encoded, el_block)]]) # Leerzeichen, Komma, Punkt, Klammern, ...\n",
    "    # print(f\"{freq:.2f} % of characters are el\\nThe rest consits of: {[(c, np.sum(other_chars == c)) for c in np.unique(other_chars)]}\")\n",
    "    mean_freq += freq \n",
    "mean_freq /= 16000\n",
    "mean_freq"
   ]
  },
  {
   "cell_type": "markdown",
   "metadata": {},
   "source": [
    "# Chinese and Korean\n",
    "Chinese, Korean and Japanese symbols and radicals are united under the term of CJK characters.\n",
    "Mutually exclusive for zh characters are:\n",
    "- CJK Radicals Supplement (2E80–2EFF)\n",
    "- Kangxi Radicals (2F00–2FDF)\n",
    "- Bopomofo (3100–312F)\n",
    "- Bopomofo Extended (31A0–31BF)\n",
    "- CJK Unified Ideographs Extension A (3400–4DBF)\n",
    "- **CJK Unified Ideographs (4E00–9FFF)**\n",
    "\n",
    "Mutually exlusive for korean character are:\n",
    "- Hangul Jamo (1100–11FF)\n",
    "- Hangul Compatibility Jamo (3130–318F)\n",
    "- **Hangul Syllables (AC00–D7AF)**\n",
    "- Hangul Jamo Extended-B (D7B0–D7FF)"
   ]
  },
  {
   "cell_type": "code",
   "execution_count": 45,
   "metadata": {},
   "outputs": [
    {
     "data": {
      "text/plain": [
       "0.8018195731077342"
      ]
     },
     "execution_count": 45,
     "metadata": {},
     "output_type": "execute_result"
    }
   ],
   "source": [
    "zh_texts = text_train['text'][targets_train['lang'] == 'zh']\n",
    "zh_block = get_block('2E80-2EFF', '2F00-2FDF', '3100-312F', '31A0-31BF', '3400-4DBF', '4E00-9FFF')\n",
    "mean_freq = 0\n",
    "for zh_text in zh_texts:\n",
    "    encoded = np.array([ord(c) for c in zh_text])\n",
    "    freq = np.sum(np.isin(encoded, zh_block)) / len(encoded)\n",
    "    mean_freq += freq \n",
    "mean_freq /= 16000\n",
    "mean_freq"
   ]
  },
  {
   "cell_type": "code",
   "execution_count": 38,
   "metadata": {},
   "outputs": [
    {
     "data": {
      "text/plain": [
       "0.674295940409025"
      ]
     },
     "execution_count": 38,
     "metadata": {},
     "output_type": "execute_result"
    }
   ],
   "source": [
    "ko_texts = text_train['text'][targets_train['lang'] == 'ko']\n",
    "ko_block = get_block('1100-11FF', '3130-318F', 'AC00-D7AF', 'D7B0-D7FF') \n",
    "\n",
    "mean_freq = 0\n",
    "for ko_text in ko_texts:\n",
    "    encoded = np.array([ord(c) for c in ko_text])\n",
    "    freq = np.sum(np.isin(encoded, ko_block)) / len(encoded)\n",
    "    mean_freq += freq \n",
    "mean_freq /= 16000\n",
    "mean_freq"
   ]
  },
  {
   "cell_type": "markdown",
   "metadata": {},
   "source": [
    "# Russian\n",
    "- Cyrillic (0400–04FF)\n",
    "- Cyrillic Supplement (0500–052F)"
   ]
  },
  {
   "cell_type": "code",
   "execution_count": 46,
   "metadata": {},
   "outputs": [
    {
     "data": {
      "text/plain": [
       "0.8028722989161122"
      ]
     },
     "execution_count": 46,
     "metadata": {},
     "output_type": "execute_result"
    }
   ],
   "source": [
    "ru_texts = text_train['text'][targets_train['lang'] == 'ru']\n",
    "ru_block = get_block('0400-04FF', '0500-052F') \n",
    "\n",
    "mean_freq = 0\n",
    "for ru_text in ru_texts:\n",
    "    encoded = np.array([ord(c) for c in ru_text])\n",
    "    freq = np.sum(np.isin(encoded, ru_block)) / len(encoded)\n",
    "    mean_freq += freq \n",
    "mean_freq /= 16000\n",
    "mean_freq"
   ]
  },
  {
   "cell_type": "markdown",
   "metadata": {},
   "source": [
    "# Azerbaijani\n",
    "Turkish alphabet with mostly latin letters. "
   ]
  },
  {
   "cell_type": "code",
   "execution_count": 53,
   "metadata": {},
   "outputs": [
    {
     "data": {
      "text/plain": [
       "0.9969088010647223"
      ]
     },
     "execution_count": 53,
     "metadata": {},
     "output_type": "execute_result"
    }
   ],
   "source": [
    "az_texts = text_train['text'][targets_train['lang'] == 'az']\n",
    "az_block = get_block('0000-0300') \n",
    "\n",
    "mean_freq = 0\n",
    "for az_text in az_texts:\n",
    "    encoded = np.array([ord(c) for c in az_text])\n",
    "    # print(az_text)\n",
    "    freq = np.sum(np.isin(encoded, az_block)) / len(encoded)\n",
    "    mean_freq += freq \n",
    "mean_freq /= 16000\n",
    "mean_freq"
   ]
  },
  {
   "cell_type": "markdown",
   "metadata": {},
   "source": [
    "# Bulgarian\n",
    "Uses also a cyrillic alphabet like russian."
   ]
  },
  {
   "cell_type": "code",
   "execution_count": 54,
   "metadata": {},
   "outputs": [
    {
     "data": {
      "text/plain": [
       "0.7739431015115734"
      ]
     },
     "execution_count": 54,
     "metadata": {},
     "output_type": "execute_result"
    }
   ],
   "source": [
    "bg_texts = text_train['text'][targets_train['lang'] == 'bg']\n",
    "bg_block = get_block('0400-04FF', '0500-052F') \n",
    "\n",
    "mean_freq = 0\n",
    "for bg_text in bg_texts:\n",
    "    encoded = np.array([ord(c) for c in bg_text])\n",
    "    freq = np.sum(np.isin(encoded, bg_block)) / len(encoded)\n",
    "    mean_freq += freq \n",
    "mean_freq /= 16000\n",
    "mean_freq"
   ]
  },
  {
   "cell_type": "markdown",
   "metadata": {},
   "source": [
    "# Czech and Croatian\n",
    "Mostly latin with some supplementary letters."
   ]
  },
  {
   "cell_type": "markdown",
   "metadata": {},
   "source": [
    "# Urdu\n",
    "Arabic alphabet:\n",
    "- Arabic (0600–06FF)"
   ]
  },
  {
   "cell_type": "code",
   "execution_count": 60,
   "metadata": {},
   "outputs": [
    {
     "data": {
      "text/plain": [
       "0.7618597741812074"
      ]
     },
     "execution_count": 60,
     "metadata": {},
     "output_type": "execute_result"
    }
   ],
   "source": [
    "ur_texts = text_train['text'][targets_train['lang'] == 'ur']\n",
    "ur_block = get_block('0600-06FF')\n",
    "\n",
    "mean_freq = 0\n",
    "for ur_text in ur_texts:\n",
    "    encoded = np.array([ord(c) for c in ur_text])\n",
    "    freq = np.sum(np.isin(encoded, ur_block)) / len(encoded)\n",
    "    mean_freq += freq \n",
    "mean_freq /= 16000\n",
    "mean_freq"
   ]
  }
 ],
 "metadata": {
  "kernelspec": {
   "display_name": "base",
   "language": "python",
   "name": "python3"
  },
  "language_info": {
   "codemirror_mode": {
    "name": "ipython",
    "version": 3
   },
   "file_extension": ".py",
   "mimetype": "text/x-python",
   "name": "python",
   "nbconvert_exporter": "python",
   "pygments_lexer": "ipython3",
   "version": "3.11.7"
  }
 },
 "nbformat": 4,
 "nbformat_minor": 2
}
