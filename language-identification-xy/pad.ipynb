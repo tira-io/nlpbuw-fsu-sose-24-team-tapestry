{
 "cells": [
  {
   "cell_type": "code",
   "execution_count": 67,
   "metadata": {},
   "outputs": [],
   "source": [
    "from pathlib import Path\n",
    "import numpy as np\n",
    "\n",
    "from tqdm import tqdm\n",
    "import pandas as pd\n",
    "from tira.rest_api_client import Client\n",
    "from tira.third_party_integrations import get_output_directory"
   ]
  },
  {
   "cell_type": "code",
   "execution_count": 2,
   "metadata": {},
   "outputs": [
    {
     "name": "stderr",
     "output_type": "stream",
     "text": [
      "Download: 40.8MiB [00:00, 88.0MiB/s]\n"
     ]
    },
    {
     "name": "stdout",
     "output_type": "stream",
     "text": [
      "Download finished. Extract...\n",
      "Extraction finished:  /root/.tira/extracted_datasets/nlpbuw-fsu-sose-24/language-identification-validation-20240429-training/\n"
     ]
    },
    {
     "name": "stderr",
     "output_type": "stream",
     "text": [
      "Download: 0.98MiB [00:00, 8.01MiB/s]"
     ]
    },
    {
     "name": "stdout",
     "output_type": "stream",
     "text": [
      "Download finished. Extract...\n",
      "Extraction finished:  /root/.tira/extracted_datasets/nlpbuw-fsu-sose-24/language-identification-validation-20240429-training/\n"
     ]
    },
    {
     "name": "stderr",
     "output_type": "stream",
     "text": [
      "\n"
     ]
    }
   ],
   "source": [
    "tira = Client()\n",
    "\n",
    "# loading validation data (automatically replaced by test data when run on tira)\n",
    "text_validation = tira.pd.inputs(\n",
    "    \"nlpbuw-fsu-sose-24\", \"language-identification-validation-20240429-training\"\n",
    ")\n",
    "targets_validation = tira.pd.truths(\n",
    "    \"nlpbuw-fsu-sose-24\", \"language-identification-validation-20240429-training\"\n",
    ")"
   ]
  },
  {
   "cell_type": "code",
   "execution_count": 100,
   "metadata": {},
   "outputs": [],
   "source": [
    "def text_to_ord(text):\n",
    "    # split text and change chars to utf-8 decimal number\n",
    "    # delete common chars such as punctuation marks and numbers\n",
    "    return [ord(char) if ord(char)>64 else np.nan for char in text]"
   ]
  },
  {
   "cell_type": "code",
   "execution_count": 109,
   "metadata": {},
   "outputs": [
    {
     "name": "stderr",
     "output_type": "stream",
     "text": [
      "/opt/conda/lib/python3.12/site-packages/pandas/core/algorithms.py:1743: RuntimeWarning: All-NaN axis encountered\n",
      "  return lib.map_infer(values, mapper, convert=convert)\n"
     ]
    }
   ],
   "source": [
    "# skip all nan values with np.nanXXX\n",
    "text_validation[\"min_char\"] = text_validation[\"text\"].apply(text_to_ord).apply(np.nanmin)\n",
    "text_validation[\"max_char\"] = text_validation[\"text\"].apply(text_to_ord).apply(np.nanmax)"
   ]
  }
 ],
 "metadata": {
  "kernelspec": {
   "display_name": "base",
   "language": "python",
   "name": "python3"
  },
  "language_info": {
   "codemirror_mode": {
    "name": "ipython",
    "version": 3
   },
   "file_extension": ".py",
   "mimetype": "text/x-python",
   "name": "python",
   "nbconvert_exporter": "python",
   "pygments_lexer": "ipython3",
   "version": "3.12.2"
  }
 },
 "nbformat": 4,
 "nbformat_minor": 2
}
