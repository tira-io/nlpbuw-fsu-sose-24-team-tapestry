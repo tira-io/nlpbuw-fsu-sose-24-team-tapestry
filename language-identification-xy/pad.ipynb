{
 "cells": [
  {
   "cell_type": "code",
   "execution_count": 10,
   "metadata": {},
   "outputs": [],
   "source": [
    "from pathlib import Path\n",
    "import numpy as np\n",
    "\n",
    "from tqdm import tqdm\n",
    "from joblib import dump\n",
    "import pandas as pd\n",
    "from tira.rest_api_client import Client\n",
    "from tira.third_party_integrations import get_output_directory"
   ]
  },
  {
   "cell_type": "code",
   "execution_count": 2,
   "metadata": {},
   "outputs": [
    {
     "name": "stderr",
     "output_type": "stream",
     "text": [
      "Download: 108MiB [00:00, 117MiB/s]  \n"
     ]
    },
    {
     "name": "stdout",
     "output_type": "stream",
     "text": [
      "Download finished. Extract...\n",
      "Extraction finished:  /root/.tira/extracted_datasets/nlpbuw-fsu-sose-24/language-identification-train-20240429-training/\n"
     ]
    },
    {
     "name": "stderr",
     "output_type": "stream",
     "text": [
      "Download: 1.10MiB [00:00, 9.90MiB/s]\n"
     ]
    },
    {
     "name": "stdout",
     "output_type": "stream",
     "text": [
      "Download finished. Extract...\n",
      "Extraction finished:  /root/.tira/extracted_datasets/nlpbuw-fsu-sose-24/language-identification-train-20240429-training/\n"
     ]
    },
    {
     "name": "stderr",
     "output_type": "stream",
     "text": [
      "Download: 40.8MiB [00:00, 88.1MiB/s]\n"
     ]
    },
    {
     "name": "stdout",
     "output_type": "stream",
     "text": [
      "Download finished. Extract...\n",
      "Extraction finished:  /root/.tira/extracted_datasets/nlpbuw-fsu-sose-24/language-identification-validation-20240429-training/\n"
     ]
    },
    {
     "name": "stderr",
     "output_type": "stream",
     "text": [
      "Download: 0.98MiB [00:00, 8.89MiB/s]"
     ]
    },
    {
     "name": "stdout",
     "output_type": "stream",
     "text": [
      "Download finished. Extract...\n",
      "Extraction finished:  /root/.tira/extracted_datasets/nlpbuw-fsu-sose-24/language-identification-validation-20240429-training/\n"
     ]
    },
    {
     "name": "stderr",
     "output_type": "stream",
     "text": [
      "\n"
     ]
    }
   ],
   "source": [
    "tira = Client()\n",
    "\n",
    "# loading validation data (automatically replaced by test data when run on tira)\n",
    "\n",
    "text_train = tira.pd.inputs(\n",
    "    \"nlpbuw-fsu-sose-24\", \"language-identification-train-20240429-training\"\n",
    ")\n",
    "targets_train = tira.pd.truths(\n",
    "    \"nlpbuw-fsu-sose-24\", \"language-identification-train-20240429-training\"\n",
    ")\n",
    "\n",
    "text_validation = tira.pd.inputs(\n",
    "    \"nlpbuw-fsu-sose-24\", \"language-identification-validation-20240429-training\"\n",
    ")\n",
    "targets_validation = tira.pd.truths(\n",
    "    \"nlpbuw-fsu-sose-24\", \"language-identification-validation-20240429-training\"\n",
    ")"
   ]
  },
  {
   "cell_type": "code",
   "execution_count": 3,
   "metadata": {},
   "outputs": [],
   "source": [
    "def text_to_ord(text):\n",
    "    # split text and change chars to utf-8 decimal number\n",
    "    # delete common chars such as punctuation marks and numbers\n",
    "    return [ord(char) if ord(char)>64 else 64 for char in text]"
   ]
  },
  {
   "cell_type": "code",
   "execution_count": 4,
   "metadata": {},
   "outputs": [],
   "source": [
    "# skip all nan values with np.nanXXX\n",
    "text_train[\"min_char\"] = text_train[\"text\"].apply(text_to_ord).apply(np.nanmin)\n",
    "text_train[\"max_char\"] = text_train[\"text\"].apply(text_to_ord).apply(np.nanmax)\n",
    "\n"
   ]
  },
  {
   "cell_type": "code",
   "execution_count": 7,
   "metadata": {},
   "outputs": [
    {
     "data": {
      "text/plain": [
       "[]"
      ]
     },
     "execution_count": 7,
     "metadata": {},
     "output_type": "execute_result"
    }
   ],
   "source": [
    "text_train[pd.isnull(text_train[\"max_char\"]).tolist()].index.tolist()\n",
    "\n",
    "#targets_train.loc[targets_validation[\"id\"] == 9086]"
   ]
  },
  {
   "cell_type": "code",
   "execution_count": 11,
   "metadata": {},
   "outputs": [
    {
     "ename": "NameError",
     "evalue": "name '__file__' is not defined",
     "output_type": "error",
     "traceback": [
      "\u001b[0;31m---------------------------------------------------------------------------\u001b[0m",
      "\u001b[0;31mNameError\u001b[0m                                 Traceback (most recent call last)",
      "Cell \u001b[0;32mIn[11], line 10\u001b[0m\n\u001b[1;32m      6\u001b[0m y \u001b[38;5;241m=\u001b[39m targets_train[\u001b[38;5;124m\"\u001b[39m\u001b[38;5;124mlang\u001b[39m\u001b[38;5;124m\"\u001b[39m]\n\u001b[1;32m      8\u001b[0m neigh\u001b[38;5;241m.\u001b[39mfit(X, y)\n\u001b[0;32m---> 10\u001b[0m dump(neigh, Path(\u001b[38;5;18;43m__file__\u001b[39;49m)\u001b[38;5;241m.\u001b[39mparent \u001b[38;5;241m/\u001b[39m \u001b[38;5;124m\"\u001b[39m\u001b[38;5;124mmodel.joblib\u001b[39m\u001b[38;5;124m\"\u001b[39m)\n",
      "\u001b[0;31mNameError\u001b[0m: name '__file__' is not defined"
     ]
    }
   ],
   "source": [
    "from sklearn.neighbors import KNeighborsClassifier\n",
    "\n",
    "neigh = KNeighborsClassifier(n_neighbors=3)\n",
    "\n",
    "X = pd.concat([text_train[\"min_char\"], text_train[\"max_char\"]], axis=1)\n",
    "y = targets_train[\"lang\"]\n",
    "\n",
    "neigh.fit(X, y)\n",
    "\n",
    "dump(neigh, Path(__file__).parent / \"model.joblib\")"
   ]
  },
  {
   "cell_type": "code",
   "execution_count": null,
   "metadata": {},
   "outputs": [],
   "source": []
  }
 ],
 "metadata": {
  "kernelspec": {
   "display_name": "base",
   "language": "python",
   "name": "python3"
  },
  "language_info": {
   "codemirror_mode": {
    "name": "ipython",
    "version": 3
   },
   "file_extension": ".py",
   "mimetype": "text/x-python",
   "name": "python",
   "nbconvert_exporter": "python",
   "pygments_lexer": "ipython3",
   "version": "3.12.2"
  }
 },
 "nbformat": 4,
 "nbformat_minor": 2
}
